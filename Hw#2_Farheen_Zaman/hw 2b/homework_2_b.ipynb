{
 "cells": [
  {
   "cell_type": "markdown",
   "source": [
    "#### ASSIGNMENT 2"
   ],
   "metadata": {
    "collapsed": false
   }
  },
  {
   "cell_type": "markdown",
   "source": [
    "In this assignment i will be using AlphaVantage API to get monthly price information on 10 cryptocurrencies."
   ],
   "metadata": {
    "collapsed": false
   }
  },
  {
   "cell_type": "code",
   "execution_count": 1,
   "outputs": [],
   "source": [
    "import pandas as pd\n",
    "import requests"
   ],
   "metadata": {
    "collapsed": false,
    "pycharm": {
     "name": "#%%\n"
    }
   }
  },
  {
   "cell_type": "code",
   "execution_count": 2,
   "outputs": [],
   "source": [
    "BASE_URL = \"https://www.alphavantage.co/query\"\n",
    "# API query parameters\n",
    "market = 'USD'\n",
    "api_key = '48P1FYQCFCRNB10L'\n",
    "function = 'DIGITAL_CURRENCY_MONTHLY'"
   ],
   "metadata": {
    "collapsed": false,
    "pycharm": {
     "name": "#%%\n"
    }
   }
  },
  {
   "cell_type": "code",
   "execution_count": 3,
   "outputs": [],
   "source": [
    "def json_to_dataframe(crypto_symbol: str) -> pd.DataFrame:\n",
    "    \"\"\"\n",
    "    creates dataframe from json returned by the api. creates csv file\n",
    "    :param crypto_symbol: string representing the crypto currency the api will return data for.\n",
    "    :return: dataframe\n",
    "    \"\"\"\n",
    "    params = {'function': function, 'symbol': crypto_symbol, 'market': market, 'apikey': api_key}\n",
    "    response = requests.get(BASE_URL,params)\n",
    "\n",
    "    # getting json data from the response\n",
    "    data = response.json()\n",
    "    data = data['Time Series (Digital Currency Monthly)']\n",
    "\n",
    "    # creating dataframe frame data\n",
    "    dataframe_data = []\n",
    "    for date in data:\n",
    "        row = list(data[date].values())\n",
    "        row.append(date)\n",
    "        dataframe_data.append(row)\n",
    "\n",
    "    dataframe = pd.DataFrame(dataframe_data, columns=['open (USD)', '1b. open (USD)', 'high (USD)', '2b. high (USD)', 'low (USD)', '3b. low (USD)', 'close (USD)', '4b. close (USD)', ' volume', 'market cap (USD)', 'date'])\n",
    "\n",
    "    # save data to csv\n",
    "    dataframe.to_csv(\"{}_monthly_data.csv\".format(crypto_symbol), index = False)\n",
    "\n",
    "    return dataframe"
   ],
   "metadata": {
    "collapsed": false,
    "pycharm": {
     "name": "#%%\n"
    }
   }
  },
  {
   "cell_type": "code",
   "execution_count": 53,
   "outputs": [],
   "source": [
    "def to_floats(dt: pd.DataFrame) -> None:\n",
    "    for column in dt.columns:\n",
    "        if column != 'date':\n",
    "            dt[column] = dt[column].astype(float)"
   ],
   "metadata": {
    "collapsed": false,
    "pycharm": {
     "name": "#%%\n"
    }
   }
  },
  {
   "cell_type": "markdown",
   "source": [
    "Creating dataframes and displaying stats of the database"
   ],
   "metadata": {
    "collapsed": false,
    "pycharm": {
     "name": "#%% md\n"
    }
   }
  },
  {
   "cell_type": "code",
   "execution_count": 54,
   "outputs": [
    {
     "data": {
      "text/plain": "   open (USD)  1b. open (USD)  high (USD)  2b. high (USD)  low (USD)  \\\n0    56950.56        56950.56    59053.55        59053.55   42000.30   \n1    61299.81        61299.81    69000.00        69000.00   53256.64   \n2    43820.01        43820.01    67000.00        67000.00   43283.03   \n3    47100.89        47100.89    52920.00        52920.00   39600.00   \n4    41461.84        41461.84    50500.00        50500.00   37332.70   \n\n   3b. low (USD)  close (USD)  4b. close (USD)        volume  \\\n0       42000.30     48477.90         48477.90  6.654783e+05   \n1       53256.64     56950.56         56950.56  1.291900e+06   \n2       43283.03     61299.80         61299.80  1.565556e+06   \n3       39600.00     43824.10         43824.10  1.527800e+06   \n4       37332.70     47100.89         47100.89  1.635403e+06   \n\n   market cap (USD)        date  \n0      6.654783e+05  2021-12-15  \n1      1.291900e+06  2021-11-30  \n2      1.565556e+06  2021-10-31  \n3      1.527800e+06  2021-09-30  \n4      1.635403e+06  2021-08-31  ",
      "text/html": "<div>\n<style scoped>\n    .dataframe tbody tr th:only-of-type {\n        vertical-align: middle;\n    }\n\n    .dataframe tbody tr th {\n        vertical-align: top;\n    }\n\n    .dataframe thead th {\n        text-align: right;\n    }\n</style>\n<table border=\"1\" class=\"dataframe\">\n  <thead>\n    <tr style=\"text-align: right;\">\n      <th></th>\n      <th>open (USD)</th>\n      <th>1b. open (USD)</th>\n      <th>high (USD)</th>\n      <th>2b. high (USD)</th>\n      <th>low (USD)</th>\n      <th>3b. low (USD)</th>\n      <th>close (USD)</th>\n      <th>4b. close (USD)</th>\n      <th>volume</th>\n      <th>market cap (USD)</th>\n      <th>date</th>\n    </tr>\n  </thead>\n  <tbody>\n    <tr>\n      <th>0</th>\n      <td>56950.56</td>\n      <td>56950.56</td>\n      <td>59053.55</td>\n      <td>59053.55</td>\n      <td>42000.30</td>\n      <td>42000.30</td>\n      <td>48477.90</td>\n      <td>48477.90</td>\n      <td>6.654783e+05</td>\n      <td>6.654783e+05</td>\n      <td>2021-12-15</td>\n    </tr>\n    <tr>\n      <th>1</th>\n      <td>61299.81</td>\n      <td>61299.81</td>\n      <td>69000.00</td>\n      <td>69000.00</td>\n      <td>53256.64</td>\n      <td>53256.64</td>\n      <td>56950.56</td>\n      <td>56950.56</td>\n      <td>1.291900e+06</td>\n      <td>1.291900e+06</td>\n      <td>2021-11-30</td>\n    </tr>\n    <tr>\n      <th>2</th>\n      <td>43820.01</td>\n      <td>43820.01</td>\n      <td>67000.00</td>\n      <td>67000.00</td>\n      <td>43283.03</td>\n      <td>43283.03</td>\n      <td>61299.80</td>\n      <td>61299.80</td>\n      <td>1.565556e+06</td>\n      <td>1.565556e+06</td>\n      <td>2021-10-31</td>\n    </tr>\n    <tr>\n      <th>3</th>\n      <td>47100.89</td>\n      <td>47100.89</td>\n      <td>52920.00</td>\n      <td>52920.00</td>\n      <td>39600.00</td>\n      <td>39600.00</td>\n      <td>43824.10</td>\n      <td>43824.10</td>\n      <td>1.527800e+06</td>\n      <td>1.527800e+06</td>\n      <td>2021-09-30</td>\n    </tr>\n    <tr>\n      <th>4</th>\n      <td>41461.84</td>\n      <td>41461.84</td>\n      <td>50500.00</td>\n      <td>50500.00</td>\n      <td>37332.70</td>\n      <td>37332.70</td>\n      <td>47100.89</td>\n      <td>47100.89</td>\n      <td>1.635403e+06</td>\n      <td>1.635403e+06</td>\n      <td>2021-08-31</td>\n    </tr>\n  </tbody>\n</table>\n</div>"
     },
     "execution_count": 54,
     "metadata": {},
     "output_type": "execute_result"
    }
   ],
   "source": [
    "btc_dataframe = json_to_dataframe('BTC') # cvs file is also created by the function\n",
    "to_floats(btc_dataframe)\n",
    "btc_dataframe.head()"
   ],
   "metadata": {
    "collapsed": false,
    "pycharm": {
     "name": "#%%\n"
    }
   }
  },
  {
   "cell_type": "code",
   "execution_count": 55,
   "outputs": [
    {
     "name": "stdout",
     "output_type": "stream",
     "text": [
      "<class 'pandas.core.frame.DataFrame'>\n",
      "RangeIndex: 33 entries, 0 to 32\n",
      "Data columns (total 11 columns):\n",
      " #   Column            Non-Null Count  Dtype  \n",
      "---  ------            --------------  -----  \n",
      " 0   open (USD)        33 non-null     float64\n",
      " 1   1b. open (USD)    33 non-null     float64\n",
      " 2   high (USD)        33 non-null     float64\n",
      " 3   2b. high (USD)    33 non-null     float64\n",
      " 4   low (USD)         33 non-null     float64\n",
      " 5   3b. low (USD)     33 non-null     float64\n",
      " 6   close (USD)       33 non-null     float64\n",
      " 7   4b. close (USD)   33 non-null     float64\n",
      " 8    volume           33 non-null     float64\n",
      " 9   market cap (USD)  33 non-null     float64\n",
      " 10  date              33 non-null     object \n",
      "dtypes: float64(10), object(1)\n",
      "memory usage: 3.0+ KB\n"
     ]
    }
   ],
   "source": [
    "btc_dataframe.info()"
   ],
   "metadata": {
    "collapsed": false,
    "pycharm": {
     "name": "#%%\n"
    }
   }
  },
  {
   "cell_type": "code",
   "execution_count": 56,
   "outputs": [
    {
     "data": {
      "text/plain": "          open (USD)  1b. open (USD)    high (USD)  2b. high (USD)  \\\ncount      33.000000       33.000000     33.000000       33.000000   \nunique           NaN             NaN           NaN             NaN   \ntop              NaN             NaN           NaN             NaN   \nfreq             NaN             NaN           NaN             NaN   \nmean    22603.970909    22603.970909  27873.119697    27873.119697   \nstd     18923.603797    18923.603797  22482.730457    22482.730457   \nmin      4102.440000     4102.440000   5600.000000     5600.000000   \n25%      8620.000000     8620.000000  10370.000000    10370.000000   \n50%     10854.100000    10854.100000  13147.080000    13147.080000   \n75%     37253.820000    37253.820000  50500.000000    50500.000000   \nmax     61299.810000    61299.810000  69000.000000    69000.000000   \n\n           low (USD)  3b. low (USD)   close (USD)  4b. close (USD)  \\\ncount      33.000000      33.000000     33.000000        33.000000   \nunique           NaN            NaN           NaN              NaN   \ntop              NaN            NaN           NaN              NaN   \nfreq             NaN            NaN           NaN              NaN   \nmean    19139.585758   19139.585758  23948.739091     23948.739091   \nstd     15459.888792   15459.888792  19143.325368     19143.325368   \nmin      3782.130000    3782.130000   5320.810000      5320.810000   \n25%      7444.580000    7444.580000   9138.550000      9138.550000   \n50%      9825.000000    9825.000000  11335.460000     11335.460000   \n75%     30000.000000   30000.000000  41461.830000     41461.830000   \nmax     53256.640000   53256.640000  61299.800000     61299.800000   \n\n              volume  market cap (USD)        date  \ncount   3.300000e+01      3.300000e+01          33  \nunique           NaN               NaN          33  \ntop              NaN               NaN  2021-12-15  \nfreq             NaN               NaN           1  \nmean    1.922885e+06      1.922885e+06         NaN  \nstd     7.385088e+05      7.385088e+05         NaN  \nmin     6.654783e+05      6.654783e+05         NaN  \n25%     1.499119e+06      1.499119e+06         NaN  \n50%     1.689490e+06      1.689490e+06         NaN  \n75%     2.495282e+06      2.495282e+06         NaN  \nmax     3.789769e+06      3.789769e+06         NaN  ",
      "text/html": "<div>\n<style scoped>\n    .dataframe tbody tr th:only-of-type {\n        vertical-align: middle;\n    }\n\n    .dataframe tbody tr th {\n        vertical-align: top;\n    }\n\n    .dataframe thead th {\n        text-align: right;\n    }\n</style>\n<table border=\"1\" class=\"dataframe\">\n  <thead>\n    <tr style=\"text-align: right;\">\n      <th></th>\n      <th>open (USD)</th>\n      <th>1b. open (USD)</th>\n      <th>high (USD)</th>\n      <th>2b. high (USD)</th>\n      <th>low (USD)</th>\n      <th>3b. low (USD)</th>\n      <th>close (USD)</th>\n      <th>4b. close (USD)</th>\n      <th>volume</th>\n      <th>market cap (USD)</th>\n      <th>date</th>\n    </tr>\n  </thead>\n  <tbody>\n    <tr>\n      <th>count</th>\n      <td>33.000000</td>\n      <td>33.000000</td>\n      <td>33.000000</td>\n      <td>33.000000</td>\n      <td>33.000000</td>\n      <td>33.000000</td>\n      <td>33.000000</td>\n      <td>33.000000</td>\n      <td>3.300000e+01</td>\n      <td>3.300000e+01</td>\n      <td>33</td>\n    </tr>\n    <tr>\n      <th>unique</th>\n      <td>NaN</td>\n      <td>NaN</td>\n      <td>NaN</td>\n      <td>NaN</td>\n      <td>NaN</td>\n      <td>NaN</td>\n      <td>NaN</td>\n      <td>NaN</td>\n      <td>NaN</td>\n      <td>NaN</td>\n      <td>33</td>\n    </tr>\n    <tr>\n      <th>top</th>\n      <td>NaN</td>\n      <td>NaN</td>\n      <td>NaN</td>\n      <td>NaN</td>\n      <td>NaN</td>\n      <td>NaN</td>\n      <td>NaN</td>\n      <td>NaN</td>\n      <td>NaN</td>\n      <td>NaN</td>\n      <td>2021-12-15</td>\n    </tr>\n    <tr>\n      <th>freq</th>\n      <td>NaN</td>\n      <td>NaN</td>\n      <td>NaN</td>\n      <td>NaN</td>\n      <td>NaN</td>\n      <td>NaN</td>\n      <td>NaN</td>\n      <td>NaN</td>\n      <td>NaN</td>\n      <td>NaN</td>\n      <td>1</td>\n    </tr>\n    <tr>\n      <th>mean</th>\n      <td>22603.970909</td>\n      <td>22603.970909</td>\n      <td>27873.119697</td>\n      <td>27873.119697</td>\n      <td>19139.585758</td>\n      <td>19139.585758</td>\n      <td>23948.739091</td>\n      <td>23948.739091</td>\n      <td>1.922885e+06</td>\n      <td>1.922885e+06</td>\n      <td>NaN</td>\n    </tr>\n    <tr>\n      <th>std</th>\n      <td>18923.603797</td>\n      <td>18923.603797</td>\n      <td>22482.730457</td>\n      <td>22482.730457</td>\n      <td>15459.888792</td>\n      <td>15459.888792</td>\n      <td>19143.325368</td>\n      <td>19143.325368</td>\n      <td>7.385088e+05</td>\n      <td>7.385088e+05</td>\n      <td>NaN</td>\n    </tr>\n    <tr>\n      <th>min</th>\n      <td>4102.440000</td>\n      <td>4102.440000</td>\n      <td>5600.000000</td>\n      <td>5600.000000</td>\n      <td>3782.130000</td>\n      <td>3782.130000</td>\n      <td>5320.810000</td>\n      <td>5320.810000</td>\n      <td>6.654783e+05</td>\n      <td>6.654783e+05</td>\n      <td>NaN</td>\n    </tr>\n    <tr>\n      <th>25%</th>\n      <td>8620.000000</td>\n      <td>8620.000000</td>\n      <td>10370.000000</td>\n      <td>10370.000000</td>\n      <td>7444.580000</td>\n      <td>7444.580000</td>\n      <td>9138.550000</td>\n      <td>9138.550000</td>\n      <td>1.499119e+06</td>\n      <td>1.499119e+06</td>\n      <td>NaN</td>\n    </tr>\n    <tr>\n      <th>50%</th>\n      <td>10854.100000</td>\n      <td>10854.100000</td>\n      <td>13147.080000</td>\n      <td>13147.080000</td>\n      <td>9825.000000</td>\n      <td>9825.000000</td>\n      <td>11335.460000</td>\n      <td>11335.460000</td>\n      <td>1.689490e+06</td>\n      <td>1.689490e+06</td>\n      <td>NaN</td>\n    </tr>\n    <tr>\n      <th>75%</th>\n      <td>37253.820000</td>\n      <td>37253.820000</td>\n      <td>50500.000000</td>\n      <td>50500.000000</td>\n      <td>30000.000000</td>\n      <td>30000.000000</td>\n      <td>41461.830000</td>\n      <td>41461.830000</td>\n      <td>2.495282e+06</td>\n      <td>2.495282e+06</td>\n      <td>NaN</td>\n    </tr>\n    <tr>\n      <th>max</th>\n      <td>61299.810000</td>\n      <td>61299.810000</td>\n      <td>69000.000000</td>\n      <td>69000.000000</td>\n      <td>53256.640000</td>\n      <td>53256.640000</td>\n      <td>61299.800000</td>\n      <td>61299.800000</td>\n      <td>3.789769e+06</td>\n      <td>3.789769e+06</td>\n      <td>NaN</td>\n    </tr>\n  </tbody>\n</table>\n</div>"
     },
     "execution_count": 56,
     "metadata": {},
     "output_type": "execute_result"
    }
   ],
   "source": [
    "btc_dataframe.describe(include = 'all')"
   ],
   "metadata": {
    "collapsed": false,
    "pycharm": {
     "name": "#%%\n"
    }
   }
  },
  {
   "cell_type": "code",
   "execution_count": 57,
   "outputs": [
    {
     "data": {
      "text/plain": "   open (USD)  1b. open (USD)  high (USD)  2b. high (USD)  low (USD)  \\\n0     4630.25         4630.25     4778.75         4778.75    3503.68   \n1     4287.48         4287.48     4868.00         4868.00    3913.00   \n2     3000.62         3000.62     4460.47         4460.47    2969.07   \n3     3429.19         3429.19     4027.88         4027.88    2652.00   \n4     2531.10         2531.10     3476.00         3476.00    2442.32   \n\n   3b. low (USD)  close (USD)  4b. close (USD)        volume  \\\n0        3503.68      3878.31          3878.31  7.517568e+06   \n1        3913.00      4630.26          4630.26  1.275612e+07   \n2        2969.07      4287.21          4287.21  1.441044e+07   \n3        2652.00      3000.61          3000.61  1.726146e+07   \n4        2442.32      3429.20          3429.20  2.143644e+07   \n\n   market cap (USD)        date  \n0      7.517568e+06  2021-12-15  \n1      1.275612e+07  2021-11-30  \n2      1.441044e+07  2021-10-31  \n3      1.726146e+07  2021-09-30  \n4      2.143644e+07  2021-08-31  ",
      "text/html": "<div>\n<style scoped>\n    .dataframe tbody tr th:only-of-type {\n        vertical-align: middle;\n    }\n\n    .dataframe tbody tr th {\n        vertical-align: top;\n    }\n\n    .dataframe thead th {\n        text-align: right;\n    }\n</style>\n<table border=\"1\" class=\"dataframe\">\n  <thead>\n    <tr style=\"text-align: right;\">\n      <th></th>\n      <th>open (USD)</th>\n      <th>1b. open (USD)</th>\n      <th>high (USD)</th>\n      <th>2b. high (USD)</th>\n      <th>low (USD)</th>\n      <th>3b. low (USD)</th>\n      <th>close (USD)</th>\n      <th>4b. close (USD)</th>\n      <th>volume</th>\n      <th>market cap (USD)</th>\n      <th>date</th>\n    </tr>\n  </thead>\n  <tbody>\n    <tr>\n      <th>0</th>\n      <td>4630.25</td>\n      <td>4630.25</td>\n      <td>4778.75</td>\n      <td>4778.75</td>\n      <td>3503.68</td>\n      <td>3503.68</td>\n      <td>3878.31</td>\n      <td>3878.31</td>\n      <td>7.517568e+06</td>\n      <td>7.517568e+06</td>\n      <td>2021-12-15</td>\n    </tr>\n    <tr>\n      <th>1</th>\n      <td>4287.48</td>\n      <td>4287.48</td>\n      <td>4868.00</td>\n      <td>4868.00</td>\n      <td>3913.00</td>\n      <td>3913.00</td>\n      <td>4630.26</td>\n      <td>4630.26</td>\n      <td>1.275612e+07</td>\n      <td>1.275612e+07</td>\n      <td>2021-11-30</td>\n    </tr>\n    <tr>\n      <th>2</th>\n      <td>3000.62</td>\n      <td>3000.62</td>\n      <td>4460.47</td>\n      <td>4460.47</td>\n      <td>2969.07</td>\n      <td>2969.07</td>\n      <td>4287.21</td>\n      <td>4287.21</td>\n      <td>1.441044e+07</td>\n      <td>1.441044e+07</td>\n      <td>2021-10-31</td>\n    </tr>\n    <tr>\n      <th>3</th>\n      <td>3429.19</td>\n      <td>3429.19</td>\n      <td>4027.88</td>\n      <td>4027.88</td>\n      <td>2652.00</td>\n      <td>2652.00</td>\n      <td>3000.61</td>\n      <td>3000.61</td>\n      <td>1.726146e+07</td>\n      <td>1.726146e+07</td>\n      <td>2021-09-30</td>\n    </tr>\n    <tr>\n      <th>4</th>\n      <td>2531.10</td>\n      <td>2531.10</td>\n      <td>3476.00</td>\n      <td>3476.00</td>\n      <td>2442.32</td>\n      <td>2442.32</td>\n      <td>3429.20</td>\n      <td>3429.20</td>\n      <td>2.143644e+07</td>\n      <td>2.143644e+07</td>\n      <td>2021-08-31</td>\n    </tr>\n  </tbody>\n</table>\n</div>"
     },
     "execution_count": 57,
     "metadata": {},
     "output_type": "execute_result"
    }
   ],
   "source": [
    "eth_dataframe = json_to_dataframe('ETH')\n",
    "to_floats(eth_dataframe)\n",
    "eth_dataframe.head()"
   ],
   "metadata": {
    "collapsed": false,
    "pycharm": {
     "name": "#%%\n"
    }
   }
  },
  {
   "cell_type": "code",
   "execution_count": 58,
   "outputs": [
    {
     "name": "stdout",
     "output_type": "stream",
     "text": [
      "<class 'pandas.core.frame.DataFrame'>\n",
      "RangeIndex: 33 entries, 0 to 32\n",
      "Data columns (total 11 columns):\n",
      " #   Column            Non-Null Count  Dtype  \n",
      "---  ------            --------------  -----  \n",
      " 0   open (USD)        33 non-null     float64\n",
      " 1   1b. open (USD)    33 non-null     float64\n",
      " 2   high (USD)        33 non-null     float64\n",
      " 3   2b. high (USD)    33 non-null     float64\n",
      " 4   low (USD)         33 non-null     float64\n",
      " 5   3b. low (USD)     33 non-null     float64\n",
      " 6   close (USD)       33 non-null     float64\n",
      " 7   4b. close (USD)   33 non-null     float64\n",
      " 8    volume           33 non-null     float64\n",
      " 9   market cap (USD)  33 non-null     float64\n",
      " 10  date              33 non-null     object \n",
      "dtypes: float64(10), object(1)\n",
      "memory usage: 3.0+ KB\n"
     ]
    }
   ],
   "source": [
    "eth_dataframe.info()"
   ],
   "metadata": {
    "collapsed": false,
    "pycharm": {
     "name": "#%%\n"
    }
   }
  },
  {
   "cell_type": "code",
   "execution_count": 59,
   "outputs": [
    {
     "data": {
      "text/plain": "         open (USD)  1b. open (USD)   high (USD)  2b. high (USD)    low (USD)  \\\ncount     33.000000       33.000000    33.000000       33.000000    33.000000   \nunique          NaN             NaN          NaN             NaN          NaN   \ntop             NaN             NaN          NaN             NaN          NaN   \nfreq            NaN             NaN          NaN             NaN          NaN   \nmean    1098.596061     1098.596061  1406.140909     1406.140909   918.956061   \nstd     1333.587657     1333.587657  1620.992907     1620.992907  1106.126119   \nmin      129.160000      129.160000   152.490000      152.490000    86.000000   \n25%      182.190000      182.190000   247.000000      247.000000   157.550000   \n50%      346.320000      346.320000   420.730000      420.730000   308.420000   \n75%     1919.370000     1919.370000  2553.860000     2553.860000  1700.480000   \nmax     4630.250000     4630.250000  4868.000000     4868.000000  3913.000000   \n\n        3b. low (USD)  close (USD)  4b. close (USD)        volume  \\\ncount       33.000000    33.000000        33.000000  3.300000e+01   \nunique            NaN          NaN              NaN           NaN   \ntop               NaN          NaN              NaN           NaN   \nfreq              NaN          NaN              NaN           NaN   \nmean       918.956061  1211.837273      1211.837273  2.243238e+07   \nstd       1106.126119  1406.425171      1406.425171  1.213268e+07   \nmin         86.000000   129.160000       129.160000  6.963710e+06   \n25%        157.550000   206.080000       206.080000  1.282946e+07   \n50%        308.420000   359.830000       359.830000  2.093518e+07   \n75%       1700.480000  2275.680000      2275.680000  2.876935e+07   \nmax       3913.000000  4630.260000      4630.260000  5.950304e+07   \n\n        market cap (USD)        date  \ncount       3.300000e+01          33  \nunique               NaN          33  \ntop                  NaN  2021-12-15  \nfreq                 NaN           1  \nmean        2.243238e+07         NaN  \nstd         1.213268e+07         NaN  \nmin         6.963710e+06         NaN  \n25%         1.282946e+07         NaN  \n50%         2.093518e+07         NaN  \n75%         2.876935e+07         NaN  \nmax         5.950304e+07         NaN  ",
      "text/html": "<div>\n<style scoped>\n    .dataframe tbody tr th:only-of-type {\n        vertical-align: middle;\n    }\n\n    .dataframe tbody tr th {\n        vertical-align: top;\n    }\n\n    .dataframe thead th {\n        text-align: right;\n    }\n</style>\n<table border=\"1\" class=\"dataframe\">\n  <thead>\n    <tr style=\"text-align: right;\">\n      <th></th>\n      <th>open (USD)</th>\n      <th>1b. open (USD)</th>\n      <th>high (USD)</th>\n      <th>2b. high (USD)</th>\n      <th>low (USD)</th>\n      <th>3b. low (USD)</th>\n      <th>close (USD)</th>\n      <th>4b. close (USD)</th>\n      <th>volume</th>\n      <th>market cap (USD)</th>\n      <th>date</th>\n    </tr>\n  </thead>\n  <tbody>\n    <tr>\n      <th>count</th>\n      <td>33.000000</td>\n      <td>33.000000</td>\n      <td>33.000000</td>\n      <td>33.000000</td>\n      <td>33.000000</td>\n      <td>33.000000</td>\n      <td>33.000000</td>\n      <td>33.000000</td>\n      <td>3.300000e+01</td>\n      <td>3.300000e+01</td>\n      <td>33</td>\n    </tr>\n    <tr>\n      <th>unique</th>\n      <td>NaN</td>\n      <td>NaN</td>\n      <td>NaN</td>\n      <td>NaN</td>\n      <td>NaN</td>\n      <td>NaN</td>\n      <td>NaN</td>\n      <td>NaN</td>\n      <td>NaN</td>\n      <td>NaN</td>\n      <td>33</td>\n    </tr>\n    <tr>\n      <th>top</th>\n      <td>NaN</td>\n      <td>NaN</td>\n      <td>NaN</td>\n      <td>NaN</td>\n      <td>NaN</td>\n      <td>NaN</td>\n      <td>NaN</td>\n      <td>NaN</td>\n      <td>NaN</td>\n      <td>NaN</td>\n      <td>2021-12-15</td>\n    </tr>\n    <tr>\n      <th>freq</th>\n      <td>NaN</td>\n      <td>NaN</td>\n      <td>NaN</td>\n      <td>NaN</td>\n      <td>NaN</td>\n      <td>NaN</td>\n      <td>NaN</td>\n      <td>NaN</td>\n      <td>NaN</td>\n      <td>NaN</td>\n      <td>1</td>\n    </tr>\n    <tr>\n      <th>mean</th>\n      <td>1098.596061</td>\n      <td>1098.596061</td>\n      <td>1406.140909</td>\n      <td>1406.140909</td>\n      <td>918.956061</td>\n      <td>918.956061</td>\n      <td>1211.837273</td>\n      <td>1211.837273</td>\n      <td>2.243238e+07</td>\n      <td>2.243238e+07</td>\n      <td>NaN</td>\n    </tr>\n    <tr>\n      <th>std</th>\n      <td>1333.587657</td>\n      <td>1333.587657</td>\n      <td>1620.992907</td>\n      <td>1620.992907</td>\n      <td>1106.126119</td>\n      <td>1106.126119</td>\n      <td>1406.425171</td>\n      <td>1406.425171</td>\n      <td>1.213268e+07</td>\n      <td>1.213268e+07</td>\n      <td>NaN</td>\n    </tr>\n    <tr>\n      <th>min</th>\n      <td>129.160000</td>\n      <td>129.160000</td>\n      <td>152.490000</td>\n      <td>152.490000</td>\n      <td>86.000000</td>\n      <td>86.000000</td>\n      <td>129.160000</td>\n      <td>129.160000</td>\n      <td>6.963710e+06</td>\n      <td>6.963710e+06</td>\n      <td>NaN</td>\n    </tr>\n    <tr>\n      <th>25%</th>\n      <td>182.190000</td>\n      <td>182.190000</td>\n      <td>247.000000</td>\n      <td>247.000000</td>\n      <td>157.550000</td>\n      <td>157.550000</td>\n      <td>206.080000</td>\n      <td>206.080000</td>\n      <td>1.282946e+07</td>\n      <td>1.282946e+07</td>\n      <td>NaN</td>\n    </tr>\n    <tr>\n      <th>50%</th>\n      <td>346.320000</td>\n      <td>346.320000</td>\n      <td>420.730000</td>\n      <td>420.730000</td>\n      <td>308.420000</td>\n      <td>308.420000</td>\n      <td>359.830000</td>\n      <td>359.830000</td>\n      <td>2.093518e+07</td>\n      <td>2.093518e+07</td>\n      <td>NaN</td>\n    </tr>\n    <tr>\n      <th>75%</th>\n      <td>1919.370000</td>\n      <td>1919.370000</td>\n      <td>2553.860000</td>\n      <td>2553.860000</td>\n      <td>1700.480000</td>\n      <td>1700.480000</td>\n      <td>2275.680000</td>\n      <td>2275.680000</td>\n      <td>2.876935e+07</td>\n      <td>2.876935e+07</td>\n      <td>NaN</td>\n    </tr>\n    <tr>\n      <th>max</th>\n      <td>4630.250000</td>\n      <td>4630.250000</td>\n      <td>4868.000000</td>\n      <td>4868.000000</td>\n      <td>3913.000000</td>\n      <td>3913.000000</td>\n      <td>4630.260000</td>\n      <td>4630.260000</td>\n      <td>5.950304e+07</td>\n      <td>5.950304e+07</td>\n      <td>NaN</td>\n    </tr>\n  </tbody>\n</table>\n</div>"
     },
     "execution_count": 59,
     "metadata": {},
     "output_type": "execute_result"
    }
   ],
   "source": [
    "eth_dataframe.describe(include = 'all')"
   ],
   "metadata": {
    "collapsed": false,
    "pycharm": {
     "name": "#%%\n"
    }
   }
  },
  {
   "cell_type": "code",
   "execution_count": 60,
   "outputs": [
    {
     "data": {
      "text/plain": "   open (USD)  1b. open (USD)  high (USD)  2b. high (USD)  low (USD)  \\\n0      622.50          622.50      649.80          649.80     489.20   \n1      524.60          524.60      669.30          669.30     510.00   \n2      387.50          387.50      540.50          540.50     381.50   \n3      463.90          463.90      509.90          509.90     320.00   \n4      332.38          332.38      518.94          518.94     317.02   \n\n   3b. low (USD)  close (USD)  4b. close (USD)        volume  \\\n0         489.20        530.4            530.4  1.774784e+07   \n1         510.00        622.5            622.5  3.948518e+07   \n2         381.50        524.6            524.6  3.619950e+07   \n3         320.00        387.5            387.5  3.873755e+07   \n4         317.02        463.9            463.9  4.740885e+07   \n\n   market cap (USD)        date  \n0      1.774784e+07  2021-12-15  \n1      3.948518e+07  2021-11-30  \n2      3.619950e+07  2021-10-31  \n3      3.873755e+07  2021-09-30  \n4      4.740885e+07  2021-08-31  ",
      "text/html": "<div>\n<style scoped>\n    .dataframe tbody tr th:only-of-type {\n        vertical-align: middle;\n    }\n\n    .dataframe tbody tr th {\n        vertical-align: top;\n    }\n\n    .dataframe thead th {\n        text-align: right;\n    }\n</style>\n<table border=\"1\" class=\"dataframe\">\n  <thead>\n    <tr style=\"text-align: right;\">\n      <th></th>\n      <th>open (USD)</th>\n      <th>1b. open (USD)</th>\n      <th>high (USD)</th>\n      <th>2b. high (USD)</th>\n      <th>low (USD)</th>\n      <th>3b. low (USD)</th>\n      <th>close (USD)</th>\n      <th>4b. close (USD)</th>\n      <th>volume</th>\n      <th>market cap (USD)</th>\n      <th>date</th>\n    </tr>\n  </thead>\n  <tbody>\n    <tr>\n      <th>0</th>\n      <td>622.50</td>\n      <td>622.50</td>\n      <td>649.80</td>\n      <td>649.80</td>\n      <td>489.20</td>\n      <td>489.20</td>\n      <td>530.4</td>\n      <td>530.4</td>\n      <td>1.774784e+07</td>\n      <td>1.774784e+07</td>\n      <td>2021-12-15</td>\n    </tr>\n    <tr>\n      <th>1</th>\n      <td>524.60</td>\n      <td>524.60</td>\n      <td>669.30</td>\n      <td>669.30</td>\n      <td>510.00</td>\n      <td>510.00</td>\n      <td>622.5</td>\n      <td>622.5</td>\n      <td>3.948518e+07</td>\n      <td>3.948518e+07</td>\n      <td>2021-11-30</td>\n    </tr>\n    <tr>\n      <th>2</th>\n      <td>387.50</td>\n      <td>387.50</td>\n      <td>540.50</td>\n      <td>540.50</td>\n      <td>381.50</td>\n      <td>381.50</td>\n      <td>524.6</td>\n      <td>524.6</td>\n      <td>3.619950e+07</td>\n      <td>3.619950e+07</td>\n      <td>2021-10-31</td>\n    </tr>\n    <tr>\n      <th>3</th>\n      <td>463.90</td>\n      <td>463.90</td>\n      <td>509.90</td>\n      <td>509.90</td>\n      <td>320.00</td>\n      <td>320.00</td>\n      <td>387.5</td>\n      <td>387.5</td>\n      <td>3.873755e+07</td>\n      <td>3.873755e+07</td>\n      <td>2021-09-30</td>\n    </tr>\n    <tr>\n      <th>4</th>\n      <td>332.38</td>\n      <td>332.38</td>\n      <td>518.94</td>\n      <td>518.94</td>\n      <td>317.02</td>\n      <td>317.02</td>\n      <td>463.9</td>\n      <td>463.9</td>\n      <td>4.740885e+07</td>\n      <td>4.740885e+07</td>\n      <td>2021-08-31</td>\n    </tr>\n  </tbody>\n</table>\n</div>"
     },
     "execution_count": 60,
     "metadata": {},
     "output_type": "execute_result"
    }
   ],
   "source": [
    "bnb_dataframe = json_to_dataframe('BNB')\n",
    "to_floats(bnb_dataframe)\n",
    "bnb_dataframe.head()"
   ],
   "metadata": {
    "collapsed": false,
    "pycharm": {
     "name": "#%%\n"
    }
   }
  },
  {
   "cell_type": "code",
   "execution_count": 63,
   "outputs": [
    {
     "name": "stdout",
     "output_type": "stream",
     "text": [
      "<class 'pandas.core.frame.DataFrame'>\n",
      "RangeIndex: 33 entries, 0 to 32\n",
      "Data columns (total 11 columns):\n",
      " #   Column            Non-Null Count  Dtype  \n",
      "---  ------            --------------  -----  \n",
      " 0   open (USD)        33 non-null     float64\n",
      " 1   1b. open (USD)    33 non-null     float64\n",
      " 2   high (USD)        33 non-null     float64\n",
      " 3   2b. high (USD)    33 non-null     float64\n",
      " 4   low (USD)         33 non-null     float64\n",
      " 5   3b. low (USD)     33 non-null     float64\n",
      " 6   close (USD)       33 non-null     float64\n",
      " 7   4b. close (USD)   33 non-null     float64\n",
      " 8    volume           33 non-null     float64\n",
      " 9   market cap (USD)  33 non-null     float64\n",
      " 10  date              33 non-null     object \n",
      "dtypes: float64(10), object(1)\n",
      "memory usage: 3.0+ KB\n"
     ]
    }
   ],
   "source": [
    "bnb_dataframe.info()"
   ],
   "metadata": {
    "collapsed": false,
    "pycharm": {
     "name": "#%%\n"
    }
   }
  },
  {
   "cell_type": "code",
   "execution_count": 64,
   "outputs": [
    {
     "data": {
      "text/plain": "        open (USD)  1b. open (USD)  high (USD)  2b. high (USD)   low (USD)  \\\ncount    33.000000       33.000000   33.000000       33.000000   33.000000   \nunique         NaN             NaN         NaN             NaN         NaN   \ntop            NaN             NaN         NaN             NaN         NaN   \nfreq           NaN             NaN         NaN             NaN         NaN   \nmean    141.092121      141.092121  189.757806      189.757806  111.186127   \nstd     196.526688      196.526688  245.769773      245.769773  152.563346   \nmin      12.549700       12.549700   15.880000       15.880000    6.380000   \n25%      18.264400       18.264400   21.800000       21.800000   14.855500   \n50%      28.505800       28.505800   34.383900       34.383900   24.170900   \n75%     302.459100      302.459100  348.696900      348.696900  211.700000   \nmax     622.640000      622.640000  691.770000      691.770000  510.000000   \n\n        3b. low (USD)  close (USD)  4b. close (USD)        volume  \\\ncount       33.000000    33.000000        33.000000  3.300000e+01   \nunique            NaN          NaN              NaN           NaN   \ntop               NaN          NaN              NaN           NaN   \nfreq              NaN          NaN              NaN           NaN   \nmean       111.186127   156.630600       156.630600  8.084827e+07   \nstd        152.563346   206.475417       206.475417  4.340154e+07   \nmin          6.380000    12.545100        12.545100  1.774784e+07   \n25%         14.855500    19.230000        19.230000  4.644175e+07   \n50%         24.170900    29.265600        29.265600  8.052946e+07   \n75%        211.700000   303.710000       303.710000  1.041451e+08   \nmax        510.000000   622.650000       622.650000  2.321049e+08   \n\n        market cap (USD)        date  \ncount       3.300000e+01          33  \nunique               NaN          33  \ntop                  NaN  2021-12-15  \nfreq                 NaN           1  \nmean        8.084827e+07         NaN  \nstd         4.340154e+07         NaN  \nmin         1.774784e+07         NaN  \n25%         4.644175e+07         NaN  \n50%         8.052946e+07         NaN  \n75%         1.041451e+08         NaN  \nmax         2.321049e+08         NaN  ",
      "text/html": "<div>\n<style scoped>\n    .dataframe tbody tr th:only-of-type {\n        vertical-align: middle;\n    }\n\n    .dataframe tbody tr th {\n        vertical-align: top;\n    }\n\n    .dataframe thead th {\n        text-align: right;\n    }\n</style>\n<table border=\"1\" class=\"dataframe\">\n  <thead>\n    <tr style=\"text-align: right;\">\n      <th></th>\n      <th>open (USD)</th>\n      <th>1b. open (USD)</th>\n      <th>high (USD)</th>\n      <th>2b. high (USD)</th>\n      <th>low (USD)</th>\n      <th>3b. low (USD)</th>\n      <th>close (USD)</th>\n      <th>4b. close (USD)</th>\n      <th>volume</th>\n      <th>market cap (USD)</th>\n      <th>date</th>\n    </tr>\n  </thead>\n  <tbody>\n    <tr>\n      <th>count</th>\n      <td>33.000000</td>\n      <td>33.000000</td>\n      <td>33.000000</td>\n      <td>33.000000</td>\n      <td>33.000000</td>\n      <td>33.000000</td>\n      <td>33.000000</td>\n      <td>33.000000</td>\n      <td>3.300000e+01</td>\n      <td>3.300000e+01</td>\n      <td>33</td>\n    </tr>\n    <tr>\n      <th>unique</th>\n      <td>NaN</td>\n      <td>NaN</td>\n      <td>NaN</td>\n      <td>NaN</td>\n      <td>NaN</td>\n      <td>NaN</td>\n      <td>NaN</td>\n      <td>NaN</td>\n      <td>NaN</td>\n      <td>NaN</td>\n      <td>33</td>\n    </tr>\n    <tr>\n      <th>top</th>\n      <td>NaN</td>\n      <td>NaN</td>\n      <td>NaN</td>\n      <td>NaN</td>\n      <td>NaN</td>\n      <td>NaN</td>\n      <td>NaN</td>\n      <td>NaN</td>\n      <td>NaN</td>\n      <td>NaN</td>\n      <td>2021-12-15</td>\n    </tr>\n    <tr>\n      <th>freq</th>\n      <td>NaN</td>\n      <td>NaN</td>\n      <td>NaN</td>\n      <td>NaN</td>\n      <td>NaN</td>\n      <td>NaN</td>\n      <td>NaN</td>\n      <td>NaN</td>\n      <td>NaN</td>\n      <td>NaN</td>\n      <td>1</td>\n    </tr>\n    <tr>\n      <th>mean</th>\n      <td>141.092121</td>\n      <td>141.092121</td>\n      <td>189.757806</td>\n      <td>189.757806</td>\n      <td>111.186127</td>\n      <td>111.186127</td>\n      <td>156.630600</td>\n      <td>156.630600</td>\n      <td>8.084827e+07</td>\n      <td>8.084827e+07</td>\n      <td>NaN</td>\n    </tr>\n    <tr>\n      <th>std</th>\n      <td>196.526688</td>\n      <td>196.526688</td>\n      <td>245.769773</td>\n      <td>245.769773</td>\n      <td>152.563346</td>\n      <td>152.563346</td>\n      <td>206.475417</td>\n      <td>206.475417</td>\n      <td>4.340154e+07</td>\n      <td>4.340154e+07</td>\n      <td>NaN</td>\n    </tr>\n    <tr>\n      <th>min</th>\n      <td>12.549700</td>\n      <td>12.549700</td>\n      <td>15.880000</td>\n      <td>15.880000</td>\n      <td>6.380000</td>\n      <td>6.380000</td>\n      <td>12.545100</td>\n      <td>12.545100</td>\n      <td>1.774784e+07</td>\n      <td>1.774784e+07</td>\n      <td>NaN</td>\n    </tr>\n    <tr>\n      <th>25%</th>\n      <td>18.264400</td>\n      <td>18.264400</td>\n      <td>21.800000</td>\n      <td>21.800000</td>\n      <td>14.855500</td>\n      <td>14.855500</td>\n      <td>19.230000</td>\n      <td>19.230000</td>\n      <td>4.644175e+07</td>\n      <td>4.644175e+07</td>\n      <td>NaN</td>\n    </tr>\n    <tr>\n      <th>50%</th>\n      <td>28.505800</td>\n      <td>28.505800</td>\n      <td>34.383900</td>\n      <td>34.383900</td>\n      <td>24.170900</td>\n      <td>24.170900</td>\n      <td>29.265600</td>\n      <td>29.265600</td>\n      <td>8.052946e+07</td>\n      <td>8.052946e+07</td>\n      <td>NaN</td>\n    </tr>\n    <tr>\n      <th>75%</th>\n      <td>302.459100</td>\n      <td>302.459100</td>\n      <td>348.696900</td>\n      <td>348.696900</td>\n      <td>211.700000</td>\n      <td>211.700000</td>\n      <td>303.710000</td>\n      <td>303.710000</td>\n      <td>1.041451e+08</td>\n      <td>1.041451e+08</td>\n      <td>NaN</td>\n    </tr>\n    <tr>\n      <th>max</th>\n      <td>622.640000</td>\n      <td>622.640000</td>\n      <td>691.770000</td>\n      <td>691.770000</td>\n      <td>510.000000</td>\n      <td>510.000000</td>\n      <td>622.650000</td>\n      <td>622.650000</td>\n      <td>2.321049e+08</td>\n      <td>2.321049e+08</td>\n      <td>NaN</td>\n    </tr>\n  </tbody>\n</table>\n</div>"
     },
     "execution_count": 64,
     "metadata": {},
     "output_type": "execute_result"
    }
   ],
   "source": [
    "bnb_dataframe.describe(include = 'all')"
   ],
   "metadata": {
    "collapsed": false,
    "pycharm": {
     "name": "#%%\n"
    }
   }
  },
  {
   "cell_type": "code",
   "execution_count": 66,
   "outputs": [
    {
     "data": {
      "text/plain": "   open (USD)  1b. open (USD)  high (USD)  2b. high (USD)  low (USD)  \\\n0      21.250          21.250      23.050          23.050     13.180   \n1      24.990          24.990      28.480          28.480     18.470   \n2      23.530          23.530      28.310          28.310     22.300   \n3      29.370          29.370      31.410          31.410     17.730   \n4      21.764          21.764      31.257          31.257     20.624   \n\n   3b. low (USD)  close (USD)  4b. close (USD)        volume  \\\n0         13.180        15.04            15.04  3.572097e+07   \n1         18.470        21.25            21.25  5.836425e+07   \n2         22.300        24.98            24.98  7.309045e+07   \n3         17.730        23.53            23.53  1.170026e+08   \n4         20.624        29.38            29.38  8.430593e+07   \n\n   market cap (USD)        date  \n0      3.572097e+07  2021-12-15  \n1      5.836425e+07  2021-11-30  \n2      7.309045e+07  2021-10-31  \n3      1.170026e+08  2021-09-30  \n4      8.430593e+07  2021-08-31  ",
      "text/html": "<div>\n<style scoped>\n    .dataframe tbody tr th:only-of-type {\n        vertical-align: middle;\n    }\n\n    .dataframe tbody tr th {\n        vertical-align: top;\n    }\n\n    .dataframe thead th {\n        text-align: right;\n    }\n</style>\n<table border=\"1\" class=\"dataframe\">\n  <thead>\n    <tr style=\"text-align: right;\">\n      <th></th>\n      <th>open (USD)</th>\n      <th>1b. open (USD)</th>\n      <th>high (USD)</th>\n      <th>2b. high (USD)</th>\n      <th>low (USD)</th>\n      <th>3b. low (USD)</th>\n      <th>close (USD)</th>\n      <th>4b. close (USD)</th>\n      <th>volume</th>\n      <th>market cap (USD)</th>\n      <th>date</th>\n    </tr>\n  </thead>\n  <tbody>\n    <tr>\n      <th>0</th>\n      <td>21.250</td>\n      <td>21.250</td>\n      <td>23.050</td>\n      <td>23.050</td>\n      <td>13.180</td>\n      <td>13.180</td>\n      <td>15.04</td>\n      <td>15.04</td>\n      <td>3.572097e+07</td>\n      <td>3.572097e+07</td>\n      <td>2021-12-15</td>\n    </tr>\n    <tr>\n      <th>1</th>\n      <td>24.990</td>\n      <td>24.990</td>\n      <td>28.480</td>\n      <td>28.480</td>\n      <td>18.470</td>\n      <td>18.470</td>\n      <td>21.25</td>\n      <td>21.25</td>\n      <td>5.836425e+07</td>\n      <td>5.836425e+07</td>\n      <td>2021-11-30</td>\n    </tr>\n    <tr>\n      <th>2</th>\n      <td>23.530</td>\n      <td>23.530</td>\n      <td>28.310</td>\n      <td>28.310</td>\n      <td>22.300</td>\n      <td>22.300</td>\n      <td>24.98</td>\n      <td>24.98</td>\n      <td>7.309045e+07</td>\n      <td>7.309045e+07</td>\n      <td>2021-10-31</td>\n    </tr>\n    <tr>\n      <th>3</th>\n      <td>29.370</td>\n      <td>29.370</td>\n      <td>31.410</td>\n      <td>31.410</td>\n      <td>17.730</td>\n      <td>17.730</td>\n      <td>23.53</td>\n      <td>23.53</td>\n      <td>1.170026e+08</td>\n      <td>1.170026e+08</td>\n      <td>2021-09-30</td>\n    </tr>\n    <tr>\n      <th>4</th>\n      <td>21.764</td>\n      <td>21.764</td>\n      <td>31.257</td>\n      <td>31.257</td>\n      <td>20.624</td>\n      <td>20.624</td>\n      <td>29.38</td>\n      <td>29.38</td>\n      <td>8.430593e+07</td>\n      <td>8.430593e+07</td>\n      <td>2021-08-31</td>\n    </tr>\n  </tbody>\n</table>\n</div>"
     },
     "execution_count": 66,
     "metadata": {},
     "output_type": "execute_result"
    }
   ],
   "source": [
    "uni_dataframe = json_to_dataframe('UNI')\n",
    "to_floats(uni_dataframe)\n",
    "uni_dataframe.head()"
   ],
   "metadata": {
    "collapsed": false,
    "pycharm": {
     "name": "#%%\n"
    }
   }
  },
  {
   "cell_type": "code",
   "execution_count": 67,
   "outputs": [
    {
     "name": "stdout",
     "output_type": "stream",
     "text": [
      "<class 'pandas.core.frame.DataFrame'>\n",
      "RangeIndex: 15 entries, 0 to 14\n",
      "Data columns (total 11 columns):\n",
      " #   Column            Non-Null Count  Dtype  \n",
      "---  ------            --------------  -----  \n",
      " 0   open (USD)        15 non-null     float64\n",
      " 1   1b. open (USD)    15 non-null     float64\n",
      " 2   high (USD)        15 non-null     float64\n",
      " 3   2b. high (USD)    15 non-null     float64\n",
      " 4   low (USD)         15 non-null     float64\n",
      " 5   3b. low (USD)     15 non-null     float64\n",
      " 6   close (USD)       15 non-null     float64\n",
      " 7   4b. close (USD)   15 non-null     float64\n",
      " 8    volume           15 non-null     float64\n",
      " 9   market cap (USD)  15 non-null     float64\n",
      " 10  date              15 non-null     object \n",
      "dtypes: float64(10), object(1)\n",
      "memory usage: 1.4+ KB\n"
     ]
    }
   ],
   "source": [
    "uni_dataframe.info()"
   ],
   "metadata": {
    "collapsed": false,
    "pycharm": {
     "name": "#%%\n"
    }
   }
  },
  {
   "cell_type": "code",
   "execution_count": 68,
   "outputs": [
    {
     "data": {
      "text/plain": "        open (USD)  1b. open (USD)  high (USD)  2b. high (USD)  low (USD)  \\\ncount    15.000000       15.000000   15.000000       15.000000  15.000000   \nunique         NaN             NaN         NaN             NaN        NaN   \ntop            NaN             NaN         NaN             NaN        NaN   \nfreq           NaN             NaN         NaN             NaN        NaN   \nmean     19.496067       19.496067   25.932993       25.932993  14.015733   \nstd      11.165271       11.165271   12.896732       12.896732   7.984128   \nmin       2.264800        2.264800    4.485700        4.485700   1.756300   \n25%      11.441750       11.441750   21.805600       21.805600   8.695200   \n50%      21.764000       21.764000   28.480000       28.480000  14.013000   \n75%      26.533800       26.533800   32.204500       32.204500  19.547000   \nmax      40.646000       40.646000   45.000000       45.000000  26.978700   \n\n        3b. low (USD)  close (USD)  4b. close (USD)        volume  \\\ncount       15.000000    15.000000        15.000000  1.500000e+01   \nunique            NaN          NaN              NaN           NaN   \ntop               NaN          NaN              NaN           NaN   \nfreq              NaN          NaN              NaN           NaN   \nmean        14.015733    20.216847        20.216847  1.732325e+08   \nstd          7.984128    10.420322        10.420322  1.264353e+08   \nmin          1.756300     2.266200         2.266200  3.572097e+07   \n25%          8.695200    16.382300        16.382300  8.551257e+07   \n50%         14.013000    21.767000        21.767000  1.334199e+08   \n75%         19.547000    26.505800        26.505800  2.237572e+08   \nmax         26.978700    40.624000        40.624000  4.712306e+08   \n\n        market cap (USD)        date  \ncount       1.500000e+01          15  \nunique               NaN          15  \ntop                  NaN  2021-12-15  \nfreq                 NaN           1  \nmean        1.732325e+08         NaN  \nstd         1.264353e+08         NaN  \nmin         3.572097e+07         NaN  \n25%         8.551257e+07         NaN  \n50%         1.334199e+08         NaN  \n75%         2.237572e+08         NaN  \nmax         4.712306e+08         NaN  ",
      "text/html": "<div>\n<style scoped>\n    .dataframe tbody tr th:only-of-type {\n        vertical-align: middle;\n    }\n\n    .dataframe tbody tr th {\n        vertical-align: top;\n    }\n\n    .dataframe thead th {\n        text-align: right;\n    }\n</style>\n<table border=\"1\" class=\"dataframe\">\n  <thead>\n    <tr style=\"text-align: right;\">\n      <th></th>\n      <th>open (USD)</th>\n      <th>1b. open (USD)</th>\n      <th>high (USD)</th>\n      <th>2b. high (USD)</th>\n      <th>low (USD)</th>\n      <th>3b. low (USD)</th>\n      <th>close (USD)</th>\n      <th>4b. close (USD)</th>\n      <th>volume</th>\n      <th>market cap (USD)</th>\n      <th>date</th>\n    </tr>\n  </thead>\n  <tbody>\n    <tr>\n      <th>count</th>\n      <td>15.000000</td>\n      <td>15.000000</td>\n      <td>15.000000</td>\n      <td>15.000000</td>\n      <td>15.000000</td>\n      <td>15.000000</td>\n      <td>15.000000</td>\n      <td>15.000000</td>\n      <td>1.500000e+01</td>\n      <td>1.500000e+01</td>\n      <td>15</td>\n    </tr>\n    <tr>\n      <th>unique</th>\n      <td>NaN</td>\n      <td>NaN</td>\n      <td>NaN</td>\n      <td>NaN</td>\n      <td>NaN</td>\n      <td>NaN</td>\n      <td>NaN</td>\n      <td>NaN</td>\n      <td>NaN</td>\n      <td>NaN</td>\n      <td>15</td>\n    </tr>\n    <tr>\n      <th>top</th>\n      <td>NaN</td>\n      <td>NaN</td>\n      <td>NaN</td>\n      <td>NaN</td>\n      <td>NaN</td>\n      <td>NaN</td>\n      <td>NaN</td>\n      <td>NaN</td>\n      <td>NaN</td>\n      <td>NaN</td>\n      <td>2021-12-15</td>\n    </tr>\n    <tr>\n      <th>freq</th>\n      <td>NaN</td>\n      <td>NaN</td>\n      <td>NaN</td>\n      <td>NaN</td>\n      <td>NaN</td>\n      <td>NaN</td>\n      <td>NaN</td>\n      <td>NaN</td>\n      <td>NaN</td>\n      <td>NaN</td>\n      <td>1</td>\n    </tr>\n    <tr>\n      <th>mean</th>\n      <td>19.496067</td>\n      <td>19.496067</td>\n      <td>25.932993</td>\n      <td>25.932993</td>\n      <td>14.015733</td>\n      <td>14.015733</td>\n      <td>20.216847</td>\n      <td>20.216847</td>\n      <td>1.732325e+08</td>\n      <td>1.732325e+08</td>\n      <td>NaN</td>\n    </tr>\n    <tr>\n      <th>std</th>\n      <td>11.165271</td>\n      <td>11.165271</td>\n      <td>12.896732</td>\n      <td>12.896732</td>\n      <td>7.984128</td>\n      <td>7.984128</td>\n      <td>10.420322</td>\n      <td>10.420322</td>\n      <td>1.264353e+08</td>\n      <td>1.264353e+08</td>\n      <td>NaN</td>\n    </tr>\n    <tr>\n      <th>min</th>\n      <td>2.264800</td>\n      <td>2.264800</td>\n      <td>4.485700</td>\n      <td>4.485700</td>\n      <td>1.756300</td>\n      <td>1.756300</td>\n      <td>2.266200</td>\n      <td>2.266200</td>\n      <td>3.572097e+07</td>\n      <td>3.572097e+07</td>\n      <td>NaN</td>\n    </tr>\n    <tr>\n      <th>25%</th>\n      <td>11.441750</td>\n      <td>11.441750</td>\n      <td>21.805600</td>\n      <td>21.805600</td>\n      <td>8.695200</td>\n      <td>8.695200</td>\n      <td>16.382300</td>\n      <td>16.382300</td>\n      <td>8.551257e+07</td>\n      <td>8.551257e+07</td>\n      <td>NaN</td>\n    </tr>\n    <tr>\n      <th>50%</th>\n      <td>21.764000</td>\n      <td>21.764000</td>\n      <td>28.480000</td>\n      <td>28.480000</td>\n      <td>14.013000</td>\n      <td>14.013000</td>\n      <td>21.767000</td>\n      <td>21.767000</td>\n      <td>1.334199e+08</td>\n      <td>1.334199e+08</td>\n      <td>NaN</td>\n    </tr>\n    <tr>\n      <th>75%</th>\n      <td>26.533800</td>\n      <td>26.533800</td>\n      <td>32.204500</td>\n      <td>32.204500</td>\n      <td>19.547000</td>\n      <td>19.547000</td>\n      <td>26.505800</td>\n      <td>26.505800</td>\n      <td>2.237572e+08</td>\n      <td>2.237572e+08</td>\n      <td>NaN</td>\n    </tr>\n    <tr>\n      <th>max</th>\n      <td>40.646000</td>\n      <td>40.646000</td>\n      <td>45.000000</td>\n      <td>45.000000</td>\n      <td>26.978700</td>\n      <td>26.978700</td>\n      <td>40.624000</td>\n      <td>40.624000</td>\n      <td>4.712306e+08</td>\n      <td>4.712306e+08</td>\n      <td>NaN</td>\n    </tr>\n  </tbody>\n</table>\n</div>"
     },
     "execution_count": 68,
     "metadata": {},
     "output_type": "execute_result"
    }
   ],
   "source": [
    "uni_dataframe.describe(include = 'all')"
   ],
   "metadata": {
    "collapsed": false,
    "pycharm": {
     "name": "#%%\n"
    }
   }
  },
  {
   "cell_type": "code",
   "execution_count": 69,
   "outputs": [
    {
     "data": {
      "text/plain": "   open (USD)  1b. open (USD)  high (USD)  2b. high (USD)  low (USD)  \\\n0     208.520         208.520      243.12          243.12    148.040   \n1     202.530         202.530      259.90          259.90    180.930   \n2     141.380         141.380      218.93          218.93    137.610   \n3     108.270         108.270      216.00          216.00    105.890   \n4      36.742          36.742      130.11          130.11     32.327   \n\n   3b. low (USD)  close (USD)  4b. close (USD)        volume  \\\n0        148.040       162.79           162.79  3.302901e+07   \n1        180.930       208.53           208.53  6.886130e+07   \n2        137.610       202.49           202.49  1.146052e+08   \n3        105.890       141.37           141.37  2.361333e+08   \n4         32.327       108.27           108.27  1.817254e+08   \n\n   market cap (USD)        date  \n0      3.302901e+07  2021-12-15  \n1      6.886130e+07  2021-11-30  \n2      1.146052e+08  2021-10-31  \n3      2.361333e+08  2021-09-30  \n4      1.817254e+08  2021-08-31  ",
      "text/html": "<div>\n<style scoped>\n    .dataframe tbody tr th:only-of-type {\n        vertical-align: middle;\n    }\n\n    .dataframe tbody tr th {\n        vertical-align: top;\n    }\n\n    .dataframe thead th {\n        text-align: right;\n    }\n</style>\n<table border=\"1\" class=\"dataframe\">\n  <thead>\n    <tr style=\"text-align: right;\">\n      <th></th>\n      <th>open (USD)</th>\n      <th>1b. open (USD)</th>\n      <th>high (USD)</th>\n      <th>2b. high (USD)</th>\n      <th>low (USD)</th>\n      <th>3b. low (USD)</th>\n      <th>close (USD)</th>\n      <th>4b. close (USD)</th>\n      <th>volume</th>\n      <th>market cap (USD)</th>\n      <th>date</th>\n    </tr>\n  </thead>\n  <tbody>\n    <tr>\n      <th>0</th>\n      <td>208.520</td>\n      <td>208.520</td>\n      <td>243.12</td>\n      <td>243.12</td>\n      <td>148.040</td>\n      <td>148.040</td>\n      <td>162.79</td>\n      <td>162.79</td>\n      <td>3.302901e+07</td>\n      <td>3.302901e+07</td>\n      <td>2021-12-15</td>\n    </tr>\n    <tr>\n      <th>1</th>\n      <td>202.530</td>\n      <td>202.530</td>\n      <td>259.90</td>\n      <td>259.90</td>\n      <td>180.930</td>\n      <td>180.930</td>\n      <td>208.53</td>\n      <td>208.53</td>\n      <td>6.886130e+07</td>\n      <td>6.886130e+07</td>\n      <td>2021-11-30</td>\n    </tr>\n    <tr>\n      <th>2</th>\n      <td>141.380</td>\n      <td>141.380</td>\n      <td>218.93</td>\n      <td>218.93</td>\n      <td>137.610</td>\n      <td>137.610</td>\n      <td>202.49</td>\n      <td>202.49</td>\n      <td>1.146052e+08</td>\n      <td>1.146052e+08</td>\n      <td>2021-10-31</td>\n    </tr>\n    <tr>\n      <th>3</th>\n      <td>108.270</td>\n      <td>108.270</td>\n      <td>216.00</td>\n      <td>216.00</td>\n      <td>105.890</td>\n      <td>105.890</td>\n      <td>141.37</td>\n      <td>141.37</td>\n      <td>2.361333e+08</td>\n      <td>2.361333e+08</td>\n      <td>2021-09-30</td>\n    </tr>\n    <tr>\n      <th>4</th>\n      <td>36.742</td>\n      <td>36.742</td>\n      <td>130.11</td>\n      <td>130.11</td>\n      <td>32.327</td>\n      <td>32.327</td>\n      <td>108.27</td>\n      <td>108.27</td>\n      <td>1.817254e+08</td>\n      <td>1.817254e+08</td>\n      <td>2021-08-31</td>\n    </tr>\n  </tbody>\n</table>\n</div>"
     },
     "execution_count": 69,
     "metadata": {},
     "output_type": "execute_result"
    }
   ],
   "source": [
    "sol_dataframe = json_to_dataframe('SOL')\n",
    "to_floats(sol_dataframe)\n",
    "sol_dataframe.head()"
   ],
   "metadata": {
    "collapsed": false,
    "pycharm": {
     "name": "#%%\n"
    }
   }
  },
  {
   "cell_type": "code",
   "execution_count": 70,
   "outputs": [
    {
     "name": "stdout",
     "output_type": "stream",
     "text": [
      "<class 'pandas.core.frame.DataFrame'>\n",
      "RangeIndex: 16 entries, 0 to 15\n",
      "Data columns (total 11 columns):\n",
      " #   Column            Non-Null Count  Dtype  \n",
      "---  ------            --------------  -----  \n",
      " 0   open (USD)        16 non-null     float64\n",
      " 1   1b. open (USD)    16 non-null     float64\n",
      " 2   high (USD)        16 non-null     float64\n",
      " 3   2b. high (USD)    16 non-null     float64\n",
      " 4   low (USD)         16 non-null     float64\n",
      " 5   3b. low (USD)     16 non-null     float64\n",
      " 6   close (USD)       16 non-null     float64\n",
      " 7   4b. close (USD)   16 non-null     float64\n",
      " 8    volume           16 non-null     float64\n",
      " 9   market cap (USD)  16 non-null     float64\n",
      " 10  date              16 non-null     object \n",
      "dtypes: float64(10), object(1)\n",
      "memory usage: 1.5+ KB\n"
     ]
    }
   ],
   "source": [
    "sol_dataframe.info()"
   ],
   "metadata": {
    "collapsed": false,
    "pycharm": {
     "name": "#%%\n"
    }
   }
  },
  {
   "cell_type": "code",
   "execution_count": 71,
   "outputs": [
    {
     "data": {
      "text/plain": "        open (USD)  1b. open (USD)  high (USD)  2b. high (USD)   low (USD)  \\\ncount    16.000000       16.000000   16.000000       16.000000   16.000000   \nunique         NaN             NaN         NaN             NaN         NaN   \ntop            NaN             NaN         NaN             NaN         NaN   \nfreq           NaN             NaN         NaN             NaN         NaN   \nmean     53.617381       53.617381   82.121156       82.121156   44.235300   \nstd      71.335604       71.335604   96.706641       96.706641   61.267176   \nmin       1.508800        1.508800    2.227900        2.227900    1.030100   \n25%       3.916775        3.916775    4.911875        4.911875    1.944200   \n50%      26.070400       26.070400   41.150000       41.150000   18.731000   \n75%      59.157000       59.157000  151.582500      151.582500   50.717750   \nmax     208.520000      208.520000  259.900000      259.900000  180.930000   \n\n        3b. low (USD)  close (USD)  4b. close (USD)        volume  \\\ncount       16.000000    16.000000        16.000000  1.600000e+01   \nunique            NaN          NaN              NaN           NaN   \ntop               NaN          NaN              NaN           NaN   \nfreq              NaN          NaN              NaN           NaN   \nmean        44.235300    63.492969        63.492969  1.325183e+08   \nstd         61.267176    74.962274        74.962274  7.269674e+07   \nmin          1.030100     1.507300         1.507300  3.302901e+07   \n25%          1.944200     3.913550         3.913550  7.443505e+07   \n50%         18.731000    34.130000        34.130000  1.084470e+08   \n75%         50.717750   116.545000       116.545000  1.860982e+08   \nmax        180.930000   208.530000       208.530000  2.493866e+08   \n\n        market cap (USD)        date  \ncount       1.600000e+01          16  \nunique               NaN          16  \ntop                  NaN  2021-12-15  \nfreq                 NaN           1  \nmean        1.325183e+08         NaN  \nstd         7.269674e+07         NaN  \nmin         3.302901e+07         NaN  \n25%         7.443505e+07         NaN  \n50%         1.084470e+08         NaN  \n75%         1.860982e+08         NaN  \nmax         2.493866e+08         NaN  ",
      "text/html": "<div>\n<style scoped>\n    .dataframe tbody tr th:only-of-type {\n        vertical-align: middle;\n    }\n\n    .dataframe tbody tr th {\n        vertical-align: top;\n    }\n\n    .dataframe thead th {\n        text-align: right;\n    }\n</style>\n<table border=\"1\" class=\"dataframe\">\n  <thead>\n    <tr style=\"text-align: right;\">\n      <th></th>\n      <th>open (USD)</th>\n      <th>1b. open (USD)</th>\n      <th>high (USD)</th>\n      <th>2b. high (USD)</th>\n      <th>low (USD)</th>\n      <th>3b. low (USD)</th>\n      <th>close (USD)</th>\n      <th>4b. close (USD)</th>\n      <th>volume</th>\n      <th>market cap (USD)</th>\n      <th>date</th>\n    </tr>\n  </thead>\n  <tbody>\n    <tr>\n      <th>count</th>\n      <td>16.000000</td>\n      <td>16.000000</td>\n      <td>16.000000</td>\n      <td>16.000000</td>\n      <td>16.000000</td>\n      <td>16.000000</td>\n      <td>16.000000</td>\n      <td>16.000000</td>\n      <td>1.600000e+01</td>\n      <td>1.600000e+01</td>\n      <td>16</td>\n    </tr>\n    <tr>\n      <th>unique</th>\n      <td>NaN</td>\n      <td>NaN</td>\n      <td>NaN</td>\n      <td>NaN</td>\n      <td>NaN</td>\n      <td>NaN</td>\n      <td>NaN</td>\n      <td>NaN</td>\n      <td>NaN</td>\n      <td>NaN</td>\n      <td>16</td>\n    </tr>\n    <tr>\n      <th>top</th>\n      <td>NaN</td>\n      <td>NaN</td>\n      <td>NaN</td>\n      <td>NaN</td>\n      <td>NaN</td>\n      <td>NaN</td>\n      <td>NaN</td>\n      <td>NaN</td>\n      <td>NaN</td>\n      <td>NaN</td>\n      <td>2021-12-15</td>\n    </tr>\n    <tr>\n      <th>freq</th>\n      <td>NaN</td>\n      <td>NaN</td>\n      <td>NaN</td>\n      <td>NaN</td>\n      <td>NaN</td>\n      <td>NaN</td>\n      <td>NaN</td>\n      <td>NaN</td>\n      <td>NaN</td>\n      <td>NaN</td>\n      <td>1</td>\n    </tr>\n    <tr>\n      <th>mean</th>\n      <td>53.617381</td>\n      <td>53.617381</td>\n      <td>82.121156</td>\n      <td>82.121156</td>\n      <td>44.235300</td>\n      <td>44.235300</td>\n      <td>63.492969</td>\n      <td>63.492969</td>\n      <td>1.325183e+08</td>\n      <td>1.325183e+08</td>\n      <td>NaN</td>\n    </tr>\n    <tr>\n      <th>std</th>\n      <td>71.335604</td>\n      <td>71.335604</td>\n      <td>96.706641</td>\n      <td>96.706641</td>\n      <td>61.267176</td>\n      <td>61.267176</td>\n      <td>74.962274</td>\n      <td>74.962274</td>\n      <td>7.269674e+07</td>\n      <td>7.269674e+07</td>\n      <td>NaN</td>\n    </tr>\n    <tr>\n      <th>min</th>\n      <td>1.508800</td>\n      <td>1.508800</td>\n      <td>2.227900</td>\n      <td>2.227900</td>\n      <td>1.030100</td>\n      <td>1.030100</td>\n      <td>1.507300</td>\n      <td>1.507300</td>\n      <td>3.302901e+07</td>\n      <td>3.302901e+07</td>\n      <td>NaN</td>\n    </tr>\n    <tr>\n      <th>25%</th>\n      <td>3.916775</td>\n      <td>3.916775</td>\n      <td>4.911875</td>\n      <td>4.911875</td>\n      <td>1.944200</td>\n      <td>1.944200</td>\n      <td>3.913550</td>\n      <td>3.913550</td>\n      <td>7.443505e+07</td>\n      <td>7.443505e+07</td>\n      <td>NaN</td>\n    </tr>\n    <tr>\n      <th>50%</th>\n      <td>26.070400</td>\n      <td>26.070400</td>\n      <td>41.150000</td>\n      <td>41.150000</td>\n      <td>18.731000</td>\n      <td>18.731000</td>\n      <td>34.130000</td>\n      <td>34.130000</td>\n      <td>1.084470e+08</td>\n      <td>1.084470e+08</td>\n      <td>NaN</td>\n    </tr>\n    <tr>\n      <th>75%</th>\n      <td>59.157000</td>\n      <td>59.157000</td>\n      <td>151.582500</td>\n      <td>151.582500</td>\n      <td>50.717750</td>\n      <td>50.717750</td>\n      <td>116.545000</td>\n      <td>116.545000</td>\n      <td>1.860982e+08</td>\n      <td>1.860982e+08</td>\n      <td>NaN</td>\n    </tr>\n    <tr>\n      <th>max</th>\n      <td>208.520000</td>\n      <td>208.520000</td>\n      <td>259.900000</td>\n      <td>259.900000</td>\n      <td>180.930000</td>\n      <td>180.930000</td>\n      <td>208.530000</td>\n      <td>208.530000</td>\n      <td>2.493866e+08</td>\n      <td>2.493866e+08</td>\n      <td>NaN</td>\n    </tr>\n  </tbody>\n</table>\n</div>"
     },
     "execution_count": 71,
     "metadata": {},
     "output_type": "execute_result"
    }
   ],
   "source": [
    "sol_dataframe.describe(include = 'all')"
   ],
   "metadata": {
    "collapsed": false,
    "pycharm": {
     "name": "#%%\n"
    }
   }
  },
  {
   "cell_type": "code",
   "execution_count": 72,
   "outputs": [
    {
     "data": {
      "text/plain": "   open (USD)  1b. open (USD)  high (USD)  2b. high (USD)  low (USD)  \\\n0      0.9984          0.9984      1.0173          1.0173     0.6000   \n1      1.1128          1.1128      1.3493          1.3493     0.8825   \n2      0.9535          0.9535      1.2300          1.2300     0.9443   \n3      1.1856          1.1856      1.4151          1.4151     0.8582   \n4      0.7461          0.7461      1.3500          1.3500     0.6952   \n\n   3b. low (USD)  close (USD)  4b. close (USD)        volume  \\\n0         0.6000       0.8107           0.8107  6.311296e+09   \n1         0.8825       0.9983           0.9983  1.242776e+10   \n2         0.9443       1.1128           1.1128  1.356969e+10   \n3         0.8582       0.9533           0.9533  1.452031e+10   \n4         0.6952       1.1856           1.1856  1.914604e+10   \n\n   market cap (USD)        date  \n0      6.311296e+09  2021-12-15  \n1      1.242776e+10  2021-11-30  \n2      1.356969e+10  2021-10-31  \n3      1.452031e+10  2021-09-30  \n4      1.914604e+10  2021-08-31  ",
      "text/html": "<div>\n<style scoped>\n    .dataframe tbody tr th:only-of-type {\n        vertical-align: middle;\n    }\n\n    .dataframe tbody tr th {\n        vertical-align: top;\n    }\n\n    .dataframe thead th {\n        text-align: right;\n    }\n</style>\n<table border=\"1\" class=\"dataframe\">\n  <thead>\n    <tr style=\"text-align: right;\">\n      <th></th>\n      <th>open (USD)</th>\n      <th>1b. open (USD)</th>\n      <th>high (USD)</th>\n      <th>2b. high (USD)</th>\n      <th>low (USD)</th>\n      <th>3b. low (USD)</th>\n      <th>close (USD)</th>\n      <th>4b. close (USD)</th>\n      <th>volume</th>\n      <th>market cap (USD)</th>\n      <th>date</th>\n    </tr>\n  </thead>\n  <tbody>\n    <tr>\n      <th>0</th>\n      <td>0.9984</td>\n      <td>0.9984</td>\n      <td>1.0173</td>\n      <td>1.0173</td>\n      <td>0.6000</td>\n      <td>0.6000</td>\n      <td>0.8107</td>\n      <td>0.8107</td>\n      <td>6.311296e+09</td>\n      <td>6.311296e+09</td>\n      <td>2021-12-15</td>\n    </tr>\n    <tr>\n      <th>1</th>\n      <td>1.1128</td>\n      <td>1.1128</td>\n      <td>1.3493</td>\n      <td>1.3493</td>\n      <td>0.8825</td>\n      <td>0.8825</td>\n      <td>0.9983</td>\n      <td>0.9983</td>\n      <td>1.242776e+10</td>\n      <td>1.242776e+10</td>\n      <td>2021-11-30</td>\n    </tr>\n    <tr>\n      <th>2</th>\n      <td>0.9535</td>\n      <td>0.9535</td>\n      <td>1.2300</td>\n      <td>1.2300</td>\n      <td>0.9443</td>\n      <td>0.9443</td>\n      <td>1.1128</td>\n      <td>1.1128</td>\n      <td>1.356969e+10</td>\n      <td>1.356969e+10</td>\n      <td>2021-10-31</td>\n    </tr>\n    <tr>\n      <th>3</th>\n      <td>1.1856</td>\n      <td>1.1856</td>\n      <td>1.4151</td>\n      <td>1.4151</td>\n      <td>0.8582</td>\n      <td>0.8582</td>\n      <td>0.9533</td>\n      <td>0.9533</td>\n      <td>1.452031e+10</td>\n      <td>1.452031e+10</td>\n      <td>2021-09-30</td>\n    </tr>\n    <tr>\n      <th>4</th>\n      <td>0.7461</td>\n      <td>0.7461</td>\n      <td>1.3500</td>\n      <td>1.3500</td>\n      <td>0.6952</td>\n      <td>0.6952</td>\n      <td>1.1856</td>\n      <td>1.1856</td>\n      <td>1.914604e+10</td>\n      <td>1.914604e+10</td>\n      <td>2021-08-31</td>\n    </tr>\n  </tbody>\n</table>\n</div>"
     },
     "execution_count": 72,
     "metadata": {},
     "output_type": "execute_result"
    }
   ],
   "source": [
    "xrp_dataframe = json_to_dataframe('XRP') # cvs file is also created by the function\n",
    "to_floats(xrp_dataframe)\n",
    "xrp_dataframe.head()"
   ],
   "metadata": {
    "collapsed": false,
    "pycharm": {
     "name": "#%%\n"
    }
   }
  },
  {
   "cell_type": "code",
   "execution_count": 73,
   "outputs": [
    {
     "name": "stdout",
     "output_type": "stream",
     "text": [
      "<class 'pandas.core.frame.DataFrame'>\n",
      "RangeIndex: 33 entries, 0 to 32\n",
      "Data columns (total 11 columns):\n",
      " #   Column            Non-Null Count  Dtype  \n",
      "---  ------            --------------  -----  \n",
      " 0   open (USD)        33 non-null     float64\n",
      " 1   1b. open (USD)    33 non-null     float64\n",
      " 2   high (USD)        33 non-null     float64\n",
      " 3   2b. high (USD)    33 non-null     float64\n",
      " 4   low (USD)         33 non-null     float64\n",
      " 5   3b. low (USD)     33 non-null     float64\n",
      " 6   close (USD)       33 non-null     float64\n",
      " 7   4b. close (USD)   33 non-null     float64\n",
      " 8    volume           33 non-null     float64\n",
      " 9   market cap (USD)  33 non-null     float64\n",
      " 10  date              33 non-null     object \n",
      "dtypes: float64(10), object(1)\n",
      "memory usage: 3.0+ KB\n"
     ]
    }
   ],
   "source": [
    "xrp_dataframe.info()"
   ],
   "metadata": {
    "collapsed": false,
    "pycharm": {
     "name": "#%%\n"
    }
   }
  },
  {
   "cell_type": "code",
   "execution_count": 74,
   "outputs": [
    {
     "data": {
      "text/plain": "       open (USD)  1b. open (USD)  high (USD)  2b. high (USD)  low (USD)  \\\ncount   33.000000       33.000000   33.000000       33.000000  33.000000   \nmean     0.483580        0.483580    0.645045        0.645045   0.356444   \nstd      0.363455        0.363455    0.485340        0.485340   0.231112   \nmin      0.173590        0.173590    0.214700        0.214700   0.101290   \n25%      0.239470        0.239470    0.304000        0.304000   0.200130   \n50%      0.308550        0.308550    0.422980        0.422980   0.243000   \n75%      0.663780        0.663780    0.780680        0.780680   0.509000   \nmax      1.598900        1.598900    1.966890        1.966890   0.944300   \n\n       3b. low (USD)  close (USD)  4b. close (USD)        volume  \\\ncount      33.000000    33.000000        33.000000  3.300000e+01   \nmean        0.356444     0.498788         0.498788  1.356241e+10   \nstd         0.231112     0.366382         0.366382  1.421752e+10   \nmin         0.101290     0.173530         0.173530  1.772168e+09   \n25%         0.200130     0.239460         0.239460  3.904625e+09   \n50%         0.243000     0.308700         0.308700  6.311296e+09   \n75%         0.509000     0.706300         0.706300  1.914604e+10   \nmax         0.944300     1.598800         1.598800  4.913944e+10   \n\n       market cap (USD)  \ncount      3.300000e+01  \nmean       1.356241e+10  \nstd        1.421752e+10  \nmin        1.772168e+09  \n25%        3.904625e+09  \n50%        6.311296e+09  \n75%        1.914604e+10  \nmax        4.913944e+10  ",
      "text/html": "<div>\n<style scoped>\n    .dataframe tbody tr th:only-of-type {\n        vertical-align: middle;\n    }\n\n    .dataframe tbody tr th {\n        vertical-align: top;\n    }\n\n    .dataframe thead th {\n        text-align: right;\n    }\n</style>\n<table border=\"1\" class=\"dataframe\">\n  <thead>\n    <tr style=\"text-align: right;\">\n      <th></th>\n      <th>open (USD)</th>\n      <th>1b. open (USD)</th>\n      <th>high (USD)</th>\n      <th>2b. high (USD)</th>\n      <th>low (USD)</th>\n      <th>3b. low (USD)</th>\n      <th>close (USD)</th>\n      <th>4b. close (USD)</th>\n      <th>volume</th>\n      <th>market cap (USD)</th>\n    </tr>\n  </thead>\n  <tbody>\n    <tr>\n      <th>count</th>\n      <td>33.000000</td>\n      <td>33.000000</td>\n      <td>33.000000</td>\n      <td>33.000000</td>\n      <td>33.000000</td>\n      <td>33.000000</td>\n      <td>33.000000</td>\n      <td>33.000000</td>\n      <td>3.300000e+01</td>\n      <td>3.300000e+01</td>\n    </tr>\n    <tr>\n      <th>mean</th>\n      <td>0.483580</td>\n      <td>0.483580</td>\n      <td>0.645045</td>\n      <td>0.645045</td>\n      <td>0.356444</td>\n      <td>0.356444</td>\n      <td>0.498788</td>\n      <td>0.498788</td>\n      <td>1.356241e+10</td>\n      <td>1.356241e+10</td>\n    </tr>\n    <tr>\n      <th>std</th>\n      <td>0.363455</td>\n      <td>0.363455</td>\n      <td>0.485340</td>\n      <td>0.485340</td>\n      <td>0.231112</td>\n      <td>0.231112</td>\n      <td>0.366382</td>\n      <td>0.366382</td>\n      <td>1.421752e+10</td>\n      <td>1.421752e+10</td>\n    </tr>\n    <tr>\n      <th>min</th>\n      <td>0.173590</td>\n      <td>0.173590</td>\n      <td>0.214700</td>\n      <td>0.214700</td>\n      <td>0.101290</td>\n      <td>0.101290</td>\n      <td>0.173530</td>\n      <td>0.173530</td>\n      <td>1.772168e+09</td>\n      <td>1.772168e+09</td>\n    </tr>\n    <tr>\n      <th>25%</th>\n      <td>0.239470</td>\n      <td>0.239470</td>\n      <td>0.304000</td>\n      <td>0.304000</td>\n      <td>0.200130</td>\n      <td>0.200130</td>\n      <td>0.239460</td>\n      <td>0.239460</td>\n      <td>3.904625e+09</td>\n      <td>3.904625e+09</td>\n    </tr>\n    <tr>\n      <th>50%</th>\n      <td>0.308550</td>\n      <td>0.308550</td>\n      <td>0.422980</td>\n      <td>0.422980</td>\n      <td>0.243000</td>\n      <td>0.243000</td>\n      <td>0.308700</td>\n      <td>0.308700</td>\n      <td>6.311296e+09</td>\n      <td>6.311296e+09</td>\n    </tr>\n    <tr>\n      <th>75%</th>\n      <td>0.663780</td>\n      <td>0.663780</td>\n      <td>0.780680</td>\n      <td>0.780680</td>\n      <td>0.509000</td>\n      <td>0.509000</td>\n      <td>0.706300</td>\n      <td>0.706300</td>\n      <td>1.914604e+10</td>\n      <td>1.914604e+10</td>\n    </tr>\n    <tr>\n      <th>max</th>\n      <td>1.598900</td>\n      <td>1.598900</td>\n      <td>1.966890</td>\n      <td>1.966890</td>\n      <td>0.944300</td>\n      <td>0.944300</td>\n      <td>1.598800</td>\n      <td>1.598800</td>\n      <td>4.913944e+10</td>\n      <td>4.913944e+10</td>\n    </tr>\n  </tbody>\n</table>\n</div>"
     },
     "execution_count": 74,
     "metadata": {},
     "output_type": "execute_result"
    }
   ],
   "source": [
    "xrp_dataframe.describe()"
   ],
   "metadata": {
    "collapsed": false,
    "pycharm": {
     "name": "#%%\n"
    }
   }
  },
  {
   "cell_type": "code",
   "execution_count": 75,
   "outputs": [
    {
     "data": {
      "text/plain": "   open (USD)  1b. open (USD)  high (USD)  2b. high (USD)  low (USD)  \\\n0      1.5530          1.5530      1.7600          1.7600     1.1880   \n1      1.9650          1.9650      2.3780          2.3780     1.4160   \n2      2.1150          2.1150      2.3750          2.3750     1.8040   \n3      2.7680          2.7680      3.1010          3.1010     1.9101   \n4      1.3193          1.3193      2.9719          2.9719     1.2613   \n\n   3b. low (USD)  close (USD)  4b. close (USD)        volume  \\\n0         1.1880        1.270            1.270  3.574177e+09   \n1         1.4160        1.554            1.554  5.739631e+09   \n2         1.8040        1.964            1.964  4.723846e+09   \n3         1.9101        2.115            2.115  8.927152e+09   \n4         1.2613        2.767            2.767  1.144442e+10   \n\n   market cap (USD)        date  \n0      3.574177e+09  2021-12-15  \n1      5.739631e+09  2021-11-30  \n2      4.723846e+09  2021-10-31  \n3      8.927152e+09  2021-09-30  \n4      1.144442e+10  2021-08-31  ",
      "text/html": "<div>\n<style scoped>\n    .dataframe tbody tr th:only-of-type {\n        vertical-align: middle;\n    }\n\n    .dataframe tbody tr th {\n        vertical-align: top;\n    }\n\n    .dataframe thead th {\n        text-align: right;\n    }\n</style>\n<table border=\"1\" class=\"dataframe\">\n  <thead>\n    <tr style=\"text-align: right;\">\n      <th></th>\n      <th>open (USD)</th>\n      <th>1b. open (USD)</th>\n      <th>high (USD)</th>\n      <th>2b. high (USD)</th>\n      <th>low (USD)</th>\n      <th>3b. low (USD)</th>\n      <th>close (USD)</th>\n      <th>4b. close (USD)</th>\n      <th>volume</th>\n      <th>market cap (USD)</th>\n      <th>date</th>\n    </tr>\n  </thead>\n  <tbody>\n    <tr>\n      <th>0</th>\n      <td>1.5530</td>\n      <td>1.5530</td>\n      <td>1.7600</td>\n      <td>1.7600</td>\n      <td>1.1880</td>\n      <td>1.1880</td>\n      <td>1.270</td>\n      <td>1.270</td>\n      <td>3.574177e+09</td>\n      <td>3.574177e+09</td>\n      <td>2021-12-15</td>\n    </tr>\n    <tr>\n      <th>1</th>\n      <td>1.9650</td>\n      <td>1.9650</td>\n      <td>2.3780</td>\n      <td>2.3780</td>\n      <td>1.4160</td>\n      <td>1.4160</td>\n      <td>1.554</td>\n      <td>1.554</td>\n      <td>5.739631e+09</td>\n      <td>5.739631e+09</td>\n      <td>2021-11-30</td>\n    </tr>\n    <tr>\n      <th>2</th>\n      <td>2.1150</td>\n      <td>2.1150</td>\n      <td>2.3750</td>\n      <td>2.3750</td>\n      <td>1.8040</td>\n      <td>1.8040</td>\n      <td>1.964</td>\n      <td>1.964</td>\n      <td>4.723846e+09</td>\n      <td>4.723846e+09</td>\n      <td>2021-10-31</td>\n    </tr>\n    <tr>\n      <th>3</th>\n      <td>2.7680</td>\n      <td>2.7680</td>\n      <td>3.1010</td>\n      <td>3.1010</td>\n      <td>1.9101</td>\n      <td>1.9101</td>\n      <td>2.115</td>\n      <td>2.115</td>\n      <td>8.927152e+09</td>\n      <td>8.927152e+09</td>\n      <td>2021-09-30</td>\n    </tr>\n    <tr>\n      <th>4</th>\n      <td>1.3193</td>\n      <td>1.3193</td>\n      <td>2.9719</td>\n      <td>2.9719</td>\n      <td>1.2613</td>\n      <td>1.2613</td>\n      <td>2.767</td>\n      <td>2.767</td>\n      <td>1.144442e+10</td>\n      <td>1.144442e+10</td>\n      <td>2021-08-31</td>\n    </tr>\n  </tbody>\n</table>\n</div>"
     },
     "execution_count": 75,
     "metadata": {},
     "output_type": "execute_result"
    }
   ],
   "source": [
    "ada_dataframe = json_to_dataframe('ADA')\n",
    "to_floats(ada_dataframe)\n",
    "ada_dataframe.head()"
   ],
   "metadata": {
    "collapsed": false,
    "pycharm": {
     "name": "#%%\n"
    }
   }
  },
  {
   "cell_type": "code",
   "execution_count": 76,
   "outputs": [
    {
     "name": "stdout",
     "output_type": "stream",
     "text": [
      "<class 'pandas.core.frame.DataFrame'>\n",
      "RangeIndex: 33 entries, 0 to 32\n",
      "Data columns (total 11 columns):\n",
      " #   Column            Non-Null Count  Dtype  \n",
      "---  ------            --------------  -----  \n",
      " 0   open (USD)        33 non-null     float64\n",
      " 1   1b. open (USD)    33 non-null     float64\n",
      " 2   high (USD)        33 non-null     float64\n",
      " 3   2b. high (USD)    33 non-null     float64\n",
      " 4   low (USD)         33 non-null     float64\n",
      " 5   3b. low (USD)     33 non-null     float64\n",
      " 6   close (USD)       33 non-null     float64\n",
      " 7   4b. close (USD)   33 non-null     float64\n",
      " 8    volume           33 non-null     float64\n",
      " 9   market cap (USD)  33 non-null     float64\n",
      " 10  date              33 non-null     object \n",
      "dtypes: float64(10), object(1)\n",
      "memory usage: 3.0+ KB\n"
     ]
    }
   ],
   "source": [
    "ada_dataframe.info()"
   ],
   "metadata": {
    "collapsed": false,
    "pycharm": {
     "name": "#%%\n"
    }
   }
  },
  {
   "cell_type": "code",
   "execution_count": 77,
   "outputs": [
    {
     "data": {
      "text/plain": "        open (USD)  1b. open (USD)  high (USD)  2b. high (USD)  low (USD)  \\\ncount    33.000000       33.000000   33.000000       33.000000  33.000000   \nunique         NaN             NaN         NaN             NaN        NaN   \ntop            NaN             NaN         NaN             NaN        NaN   \nfreq           NaN             NaN         NaN             NaN        NaN   \nmean      0.568472        0.568472    0.767938        0.767938   0.431525   \nstd       0.784379        0.784379    1.007622        1.007622   0.582803   \nmin       0.030450        0.030450    0.040350        0.040350   0.017650   \n25%       0.053900        0.053900    0.072310        0.072310   0.043120   \n50%       0.092960        0.092960    0.128120        0.128120   0.082400   \n75%       1.312790        1.312790    1.495500        1.495500   0.985000   \nmax       2.768000        2.768000    3.101000        3.101000   1.910100   \n\n        3b. low (USD)  close (USD)  4b. close (USD)        volume  \\\ncount       33.000000    33.000000        33.000000  3.300000e+01   \nunique            NaN          NaN              NaN           NaN   \ntop               NaN          NaN              NaN           NaN   \nfreq              NaN          NaN              NaN           NaN   \nmean         0.431525     0.604798         0.604798  1.041557e+10   \nstd          0.582803     0.788219         0.788219  7.008589e+09   \nmin          0.017650     0.030450         0.030450  2.562617e+09   \n25%          0.043120     0.053900         0.053900  5.288104e+09   \n50%          0.082400     0.101360         0.101360  8.927152e+09   \n75%          0.985000     1.312030         1.312030  1.236076e+10   \nmax          1.910100     2.767000         2.767000  2.902684e+10   \n\n        market cap (USD)        date  \ncount       3.300000e+01          33  \nunique               NaN          33  \ntop                  NaN  2021-12-15  \nfreq                 NaN           1  \nmean        1.041557e+10         NaN  \nstd         7.008589e+09         NaN  \nmin         2.562617e+09         NaN  \n25%         5.288104e+09         NaN  \n50%         8.927152e+09         NaN  \n75%         1.236076e+10         NaN  \nmax         2.902684e+10         NaN  ",
      "text/html": "<div>\n<style scoped>\n    .dataframe tbody tr th:only-of-type {\n        vertical-align: middle;\n    }\n\n    .dataframe tbody tr th {\n        vertical-align: top;\n    }\n\n    .dataframe thead th {\n        text-align: right;\n    }\n</style>\n<table border=\"1\" class=\"dataframe\">\n  <thead>\n    <tr style=\"text-align: right;\">\n      <th></th>\n      <th>open (USD)</th>\n      <th>1b. open (USD)</th>\n      <th>high (USD)</th>\n      <th>2b. high (USD)</th>\n      <th>low (USD)</th>\n      <th>3b. low (USD)</th>\n      <th>close (USD)</th>\n      <th>4b. close (USD)</th>\n      <th>volume</th>\n      <th>market cap (USD)</th>\n      <th>date</th>\n    </tr>\n  </thead>\n  <tbody>\n    <tr>\n      <th>count</th>\n      <td>33.000000</td>\n      <td>33.000000</td>\n      <td>33.000000</td>\n      <td>33.000000</td>\n      <td>33.000000</td>\n      <td>33.000000</td>\n      <td>33.000000</td>\n      <td>33.000000</td>\n      <td>3.300000e+01</td>\n      <td>3.300000e+01</td>\n      <td>33</td>\n    </tr>\n    <tr>\n      <th>unique</th>\n      <td>NaN</td>\n      <td>NaN</td>\n      <td>NaN</td>\n      <td>NaN</td>\n      <td>NaN</td>\n      <td>NaN</td>\n      <td>NaN</td>\n      <td>NaN</td>\n      <td>NaN</td>\n      <td>NaN</td>\n      <td>33</td>\n    </tr>\n    <tr>\n      <th>top</th>\n      <td>NaN</td>\n      <td>NaN</td>\n      <td>NaN</td>\n      <td>NaN</td>\n      <td>NaN</td>\n      <td>NaN</td>\n      <td>NaN</td>\n      <td>NaN</td>\n      <td>NaN</td>\n      <td>NaN</td>\n      <td>2021-12-15</td>\n    </tr>\n    <tr>\n      <th>freq</th>\n      <td>NaN</td>\n      <td>NaN</td>\n      <td>NaN</td>\n      <td>NaN</td>\n      <td>NaN</td>\n      <td>NaN</td>\n      <td>NaN</td>\n      <td>NaN</td>\n      <td>NaN</td>\n      <td>NaN</td>\n      <td>1</td>\n    </tr>\n    <tr>\n      <th>mean</th>\n      <td>0.568472</td>\n      <td>0.568472</td>\n      <td>0.767938</td>\n      <td>0.767938</td>\n      <td>0.431525</td>\n      <td>0.431525</td>\n      <td>0.604798</td>\n      <td>0.604798</td>\n      <td>1.041557e+10</td>\n      <td>1.041557e+10</td>\n      <td>NaN</td>\n    </tr>\n    <tr>\n      <th>std</th>\n      <td>0.784379</td>\n      <td>0.784379</td>\n      <td>1.007622</td>\n      <td>1.007622</td>\n      <td>0.582803</td>\n      <td>0.582803</td>\n      <td>0.788219</td>\n      <td>0.788219</td>\n      <td>7.008589e+09</td>\n      <td>7.008589e+09</td>\n      <td>NaN</td>\n    </tr>\n    <tr>\n      <th>min</th>\n      <td>0.030450</td>\n      <td>0.030450</td>\n      <td>0.040350</td>\n      <td>0.040350</td>\n      <td>0.017650</td>\n      <td>0.017650</td>\n      <td>0.030450</td>\n      <td>0.030450</td>\n      <td>2.562617e+09</td>\n      <td>2.562617e+09</td>\n      <td>NaN</td>\n    </tr>\n    <tr>\n      <th>25%</th>\n      <td>0.053900</td>\n      <td>0.053900</td>\n      <td>0.072310</td>\n      <td>0.072310</td>\n      <td>0.043120</td>\n      <td>0.043120</td>\n      <td>0.053900</td>\n      <td>0.053900</td>\n      <td>5.288104e+09</td>\n      <td>5.288104e+09</td>\n      <td>NaN</td>\n    </tr>\n    <tr>\n      <th>50%</th>\n      <td>0.092960</td>\n      <td>0.092960</td>\n      <td>0.128120</td>\n      <td>0.128120</td>\n      <td>0.082400</td>\n      <td>0.082400</td>\n      <td>0.101360</td>\n      <td>0.101360</td>\n      <td>8.927152e+09</td>\n      <td>8.927152e+09</td>\n      <td>NaN</td>\n    </tr>\n    <tr>\n      <th>75%</th>\n      <td>1.312790</td>\n      <td>1.312790</td>\n      <td>1.495500</td>\n      <td>1.495500</td>\n      <td>0.985000</td>\n      <td>0.985000</td>\n      <td>1.312030</td>\n      <td>1.312030</td>\n      <td>1.236076e+10</td>\n      <td>1.236076e+10</td>\n      <td>NaN</td>\n    </tr>\n    <tr>\n      <th>max</th>\n      <td>2.768000</td>\n      <td>2.768000</td>\n      <td>3.101000</td>\n      <td>3.101000</td>\n      <td>1.910100</td>\n      <td>1.910100</td>\n      <td>2.767000</td>\n      <td>2.767000</td>\n      <td>2.902684e+10</td>\n      <td>2.902684e+10</td>\n      <td>NaN</td>\n    </tr>\n  </tbody>\n</table>\n</div>"
     },
     "execution_count": 77,
     "metadata": {},
     "output_type": "execute_result"
    }
   ],
   "source": [
    "ada_dataframe.describe(include = 'all')"
   ],
   "metadata": {
    "collapsed": false,
    "pycharm": {
     "name": "#%%\n"
    }
   }
  },
  {
   "cell_type": "code",
   "execution_count": 78,
   "outputs": [
    {
     "data": {
      "text/plain": "   open (USD)  1b. open (USD)  high (USD)  2b. high (USD)  low (USD)  \\\n0      59.590          59.590       78.29           78.29     49.650   \n1      42.900          42.900       60.08           60.08     37.820   \n2      38.840          38.840       49.54           49.54     34.860   \n3      31.540          31.540       45.01           45.01     22.950   \n4      10.734          10.734       36.89           36.89     10.523   \n\n   3b. low (USD)  close (USD)  4b. close (USD)        volume  \\\n0         49.650        60.04            60.04  1.251670e+08   \n1         37.820        59.59            59.59  1.249614e+08   \n2         34.860        42.89            42.89  1.798577e+08   \n3         22.950        38.83            38.83  2.961745e+08   \n4         10.523        31.57            31.57  3.010037e+08   \n\n   market cap (USD)        date  \n0      1.251670e+08  2021-12-15  \n1      1.249614e+08  2021-11-30  \n2      1.798577e+08  2021-10-31  \n3      2.961745e+08  2021-09-30  \n4      3.010037e+08  2021-08-31  ",
      "text/html": "<div>\n<style scoped>\n    .dataframe tbody tr th:only-of-type {\n        vertical-align: middle;\n    }\n\n    .dataframe tbody tr th {\n        vertical-align: top;\n    }\n\n    .dataframe thead th {\n        text-align: right;\n    }\n</style>\n<table border=\"1\" class=\"dataframe\">\n  <thead>\n    <tr style=\"text-align: right;\">\n      <th></th>\n      <th>open (USD)</th>\n      <th>1b. open (USD)</th>\n      <th>high (USD)</th>\n      <th>2b. high (USD)</th>\n      <th>low (USD)</th>\n      <th>3b. low (USD)</th>\n      <th>close (USD)</th>\n      <th>4b. close (USD)</th>\n      <th>volume</th>\n      <th>market cap (USD)</th>\n      <th>date</th>\n    </tr>\n  </thead>\n  <tbody>\n    <tr>\n      <th>0</th>\n      <td>59.590</td>\n      <td>59.590</td>\n      <td>78.29</td>\n      <td>78.29</td>\n      <td>49.650</td>\n      <td>49.650</td>\n      <td>60.04</td>\n      <td>60.04</td>\n      <td>1.251670e+08</td>\n      <td>1.251670e+08</td>\n      <td>2021-12-15</td>\n    </tr>\n    <tr>\n      <th>1</th>\n      <td>42.900</td>\n      <td>42.900</td>\n      <td>60.08</td>\n      <td>60.08</td>\n      <td>37.820</td>\n      <td>37.820</td>\n      <td>59.59</td>\n      <td>59.59</td>\n      <td>1.249614e+08</td>\n      <td>1.249614e+08</td>\n      <td>2021-11-30</td>\n    </tr>\n    <tr>\n      <th>2</th>\n      <td>38.840</td>\n      <td>38.840</td>\n      <td>49.54</td>\n      <td>49.54</td>\n      <td>34.860</td>\n      <td>34.860</td>\n      <td>42.89</td>\n      <td>42.89</td>\n      <td>1.798577e+08</td>\n      <td>1.798577e+08</td>\n      <td>2021-10-31</td>\n    </tr>\n    <tr>\n      <th>3</th>\n      <td>31.540</td>\n      <td>31.540</td>\n      <td>45.01</td>\n      <td>45.01</td>\n      <td>22.950</td>\n      <td>22.950</td>\n      <td>38.83</td>\n      <td>38.83</td>\n      <td>2.961745e+08</td>\n      <td>2.961745e+08</td>\n      <td>2021-09-30</td>\n    </tr>\n    <tr>\n      <th>4</th>\n      <td>10.734</td>\n      <td>10.734</td>\n      <td>36.89</td>\n      <td>36.89</td>\n      <td>10.523</td>\n      <td>10.523</td>\n      <td>31.57</td>\n      <td>31.57</td>\n      <td>3.010037e+08</td>\n      <td>3.010037e+08</td>\n      <td>2021-08-31</td>\n    </tr>\n  </tbody>\n</table>\n</div>"
     },
     "execution_count": 78,
     "metadata": {},
     "output_type": "execute_result"
    }
   ],
   "source": [
    "luna_dataframe = json_to_dataframe('LUNA')\n",
    "to_floats(luna_dataframe)\n",
    "luna_dataframe.head()"
   ],
   "metadata": {
    "collapsed": false,
    "pycharm": {
     "name": "#%%\n"
    }
   }
  },
  {
   "cell_type": "code",
   "execution_count": 79,
   "outputs": [
    {
     "name": "stdout",
     "output_type": "stream",
     "text": [
      "<class 'pandas.core.frame.DataFrame'>\n",
      "RangeIndex: 16 entries, 0 to 15\n",
      "Data columns (total 11 columns):\n",
      " #   Column            Non-Null Count  Dtype  \n",
      "---  ------            --------------  -----  \n",
      " 0   open (USD)        16 non-null     float64\n",
      " 1   1b. open (USD)    16 non-null     float64\n",
      " 2   high (USD)        16 non-null     float64\n",
      " 3   2b. high (USD)    16 non-null     float64\n",
      " 4   low (USD)         16 non-null     float64\n",
      " 5   3b. low (USD)     16 non-null     float64\n",
      " 6   close (USD)       16 non-null     float64\n",
      " 7   4b. close (USD)   16 non-null     float64\n",
      " 8    volume           16 non-null     float64\n",
      " 9   market cap (USD)  16 non-null     float64\n",
      " 10  date              16 non-null     object \n",
      "dtypes: float64(10), object(1)\n",
      "memory usage: 1.5+ KB\n"
     ]
    }
   ],
   "source": [
    "luna_dataframe.info()"
   ],
   "metadata": {
    "collapsed": false,
    "pycharm": {
     "name": "#%%\n"
    }
   }
  },
  {
   "cell_type": "code",
   "execution_count": 80,
   "outputs": [
    {
     "data": {
      "text/plain": "        open (USD)  1b. open (USD)  high (USD)  2b. high (USD)  low (USD)  \\\ncount    16.000000       16.000000   16.000000       16.000000  16.000000   \nunique         NaN             NaN         NaN             NaN        NaN   \ntop            NaN             NaN         NaN             NaN        NaN   \nfreq           NaN             NaN         NaN             NaN        NaN   \nmean     15.068112       15.068112   22.678756       22.678756  11.873125   \nstd      18.478969       18.478969   24.334449       24.334449  15.759524   \nmin       0.303100        0.303100    0.340200        0.340200   0.273300   \n25%       0.618050        0.618050    1.459750        1.459750   0.556425   \n50%       6.557500        6.557500   15.499500       15.499500   4.922000   \n75%      21.888175       21.888175   38.920000       38.920000  14.475075   \nmax      59.590000       59.590000   78.290000       78.290000  49.650000   \n\n        3b. low (USD)  close (USD)  4b. close (USD)        volume  \\\ncount       16.000000    16.000000        16.000000  1.600000e+01   \nunique            NaN          NaN              NaN           NaN   \ntop               NaN          NaN              NaN           NaN   \nfreq              NaN          NaN              NaN           NaN   \nmean        11.873125    18.788812        18.788812  2.768185e+08   \nstd         15.759524    21.151896        21.151896  1.778380e+08   \nmin          0.273300     0.303200         0.303200  4.248067e+07   \n25%          0.556425     1.257000         1.257000  1.251156e+08   \n50%          4.922000     8.650000         8.650000  2.662013e+08   \n75%         14.475075    33.385000        33.385000  3.299923e+08   \nmax         49.650000    60.040000        60.040000  6.586118e+08   \n\n        market cap (USD)        date  \ncount       1.600000e+01          16  \nunique               NaN          16  \ntop                  NaN  2021-12-15  \nfreq                 NaN           1  \nmean        2.768185e+08         NaN  \nstd         1.778380e+08         NaN  \nmin         4.248067e+07         NaN  \n25%         1.251156e+08         NaN  \n50%         2.662013e+08         NaN  \n75%         3.299923e+08         NaN  \nmax         6.586118e+08         NaN  ",
      "text/html": "<div>\n<style scoped>\n    .dataframe tbody tr th:only-of-type {\n        vertical-align: middle;\n    }\n\n    .dataframe tbody tr th {\n        vertical-align: top;\n    }\n\n    .dataframe thead th {\n        text-align: right;\n    }\n</style>\n<table border=\"1\" class=\"dataframe\">\n  <thead>\n    <tr style=\"text-align: right;\">\n      <th></th>\n      <th>open (USD)</th>\n      <th>1b. open (USD)</th>\n      <th>high (USD)</th>\n      <th>2b. high (USD)</th>\n      <th>low (USD)</th>\n      <th>3b. low (USD)</th>\n      <th>close (USD)</th>\n      <th>4b. close (USD)</th>\n      <th>volume</th>\n      <th>market cap (USD)</th>\n      <th>date</th>\n    </tr>\n  </thead>\n  <tbody>\n    <tr>\n      <th>count</th>\n      <td>16.000000</td>\n      <td>16.000000</td>\n      <td>16.000000</td>\n      <td>16.000000</td>\n      <td>16.000000</td>\n      <td>16.000000</td>\n      <td>16.000000</td>\n      <td>16.000000</td>\n      <td>1.600000e+01</td>\n      <td>1.600000e+01</td>\n      <td>16</td>\n    </tr>\n    <tr>\n      <th>unique</th>\n      <td>NaN</td>\n      <td>NaN</td>\n      <td>NaN</td>\n      <td>NaN</td>\n      <td>NaN</td>\n      <td>NaN</td>\n      <td>NaN</td>\n      <td>NaN</td>\n      <td>NaN</td>\n      <td>NaN</td>\n      <td>16</td>\n    </tr>\n    <tr>\n      <th>top</th>\n      <td>NaN</td>\n      <td>NaN</td>\n      <td>NaN</td>\n      <td>NaN</td>\n      <td>NaN</td>\n      <td>NaN</td>\n      <td>NaN</td>\n      <td>NaN</td>\n      <td>NaN</td>\n      <td>NaN</td>\n      <td>2021-12-15</td>\n    </tr>\n    <tr>\n      <th>freq</th>\n      <td>NaN</td>\n      <td>NaN</td>\n      <td>NaN</td>\n      <td>NaN</td>\n      <td>NaN</td>\n      <td>NaN</td>\n      <td>NaN</td>\n      <td>NaN</td>\n      <td>NaN</td>\n      <td>NaN</td>\n      <td>1</td>\n    </tr>\n    <tr>\n      <th>mean</th>\n      <td>15.068112</td>\n      <td>15.068112</td>\n      <td>22.678756</td>\n      <td>22.678756</td>\n      <td>11.873125</td>\n      <td>11.873125</td>\n      <td>18.788812</td>\n      <td>18.788812</td>\n      <td>2.768185e+08</td>\n      <td>2.768185e+08</td>\n      <td>NaN</td>\n    </tr>\n    <tr>\n      <th>std</th>\n      <td>18.478969</td>\n      <td>18.478969</td>\n      <td>24.334449</td>\n      <td>24.334449</td>\n      <td>15.759524</td>\n      <td>15.759524</td>\n      <td>21.151896</td>\n      <td>21.151896</td>\n      <td>1.778380e+08</td>\n      <td>1.778380e+08</td>\n      <td>NaN</td>\n    </tr>\n    <tr>\n      <th>min</th>\n      <td>0.303100</td>\n      <td>0.303100</td>\n      <td>0.340200</td>\n      <td>0.340200</td>\n      <td>0.273300</td>\n      <td>0.273300</td>\n      <td>0.303200</td>\n      <td>0.303200</td>\n      <td>4.248067e+07</td>\n      <td>4.248067e+07</td>\n      <td>NaN</td>\n    </tr>\n    <tr>\n      <th>25%</th>\n      <td>0.618050</td>\n      <td>0.618050</td>\n      <td>1.459750</td>\n      <td>1.459750</td>\n      <td>0.556425</td>\n      <td>0.556425</td>\n      <td>1.257000</td>\n      <td>1.257000</td>\n      <td>1.251156e+08</td>\n      <td>1.251156e+08</td>\n      <td>NaN</td>\n    </tr>\n    <tr>\n      <th>50%</th>\n      <td>6.557500</td>\n      <td>6.557500</td>\n      <td>15.499500</td>\n      <td>15.499500</td>\n      <td>4.922000</td>\n      <td>4.922000</td>\n      <td>8.650000</td>\n      <td>8.650000</td>\n      <td>2.662013e+08</td>\n      <td>2.662013e+08</td>\n      <td>NaN</td>\n    </tr>\n    <tr>\n      <th>75%</th>\n      <td>21.888175</td>\n      <td>21.888175</td>\n      <td>38.920000</td>\n      <td>38.920000</td>\n      <td>14.475075</td>\n      <td>14.475075</td>\n      <td>33.385000</td>\n      <td>33.385000</td>\n      <td>3.299923e+08</td>\n      <td>3.299923e+08</td>\n      <td>NaN</td>\n    </tr>\n    <tr>\n      <th>max</th>\n      <td>59.590000</td>\n      <td>59.590000</td>\n      <td>78.290000</td>\n      <td>78.290000</td>\n      <td>49.650000</td>\n      <td>49.650000</td>\n      <td>60.040000</td>\n      <td>60.040000</td>\n      <td>6.586118e+08</td>\n      <td>6.586118e+08</td>\n      <td>NaN</td>\n    </tr>\n  </tbody>\n</table>\n</div>"
     },
     "execution_count": 80,
     "metadata": {},
     "output_type": "execute_result"
    }
   ],
   "source": [
    "luna_dataframe.describe(include = 'all')"
   ],
   "metadata": {
    "collapsed": false,
    "pycharm": {
     "name": "#%%\n"
    }
   }
  },
  {
   "cell_type": "code",
   "execution_count": 81,
   "outputs": [
    {
     "data": {
      "text/plain": "   open (USD)  1b. open (USD)  high (USD)  2b. high (USD)  low (USD)  \\\n0      37.960          37.960       38.78           38.78     24.350   \n1      42.780          42.780       55.09           55.09     32.210   \n2      28.610          28.610       46.39           46.39     28.500   \n3      31.340          31.340       38.77           38.77     22.660   \n4      16.779          16.779       31.95           31.95     16.539   \n\n   3b. low (USD)  close (USD)  4b. close (USD)        volume  \\\n0         24.350        26.20            26.20  1.535145e+08   \n1         32.210        37.95            37.95  3.221556e+08   \n2         28.500        42.77            42.77  3.901620e+08   \n3         22.660        28.62            28.62  5.561460e+08   \n4         16.539        31.35            31.35  5.059059e+08   \n\n   market cap (USD)        date  \n0      1.535145e+08  2021-12-15  \n1      3.221556e+08  2021-11-30  \n2      3.901620e+08  2021-10-31  \n3      5.561460e+08  2021-09-30  \n4      5.059059e+08  2021-08-31  ",
      "text/html": "<div>\n<style scoped>\n    .dataframe tbody tr th:only-of-type {\n        vertical-align: middle;\n    }\n\n    .dataframe tbody tr th {\n        vertical-align: top;\n    }\n\n    .dataframe thead th {\n        text-align: right;\n    }\n</style>\n<table border=\"1\" class=\"dataframe\">\n  <thead>\n    <tr style=\"text-align: right;\">\n      <th></th>\n      <th>open (USD)</th>\n      <th>1b. open (USD)</th>\n      <th>high (USD)</th>\n      <th>2b. high (USD)</th>\n      <th>low (USD)</th>\n      <th>3b. low (USD)</th>\n      <th>close (USD)</th>\n      <th>4b. close (USD)</th>\n      <th>volume</th>\n      <th>market cap (USD)</th>\n      <th>date</th>\n    </tr>\n  </thead>\n  <tbody>\n    <tr>\n      <th>0</th>\n      <td>37.960</td>\n      <td>37.960</td>\n      <td>38.78</td>\n      <td>38.78</td>\n      <td>24.350</td>\n      <td>24.350</td>\n      <td>26.20</td>\n      <td>26.20</td>\n      <td>1.535145e+08</td>\n      <td>1.535145e+08</td>\n      <td>2021-12-15</td>\n    </tr>\n    <tr>\n      <th>1</th>\n      <td>42.780</td>\n      <td>42.780</td>\n      <td>55.09</td>\n      <td>55.09</td>\n      <td>32.210</td>\n      <td>32.210</td>\n      <td>37.95</td>\n      <td>37.95</td>\n      <td>3.221556e+08</td>\n      <td>3.221556e+08</td>\n      <td>2021-11-30</td>\n    </tr>\n    <tr>\n      <th>2</th>\n      <td>28.610</td>\n      <td>28.610</td>\n      <td>46.39</td>\n      <td>46.39</td>\n      <td>28.500</td>\n      <td>28.500</td>\n      <td>42.77</td>\n      <td>42.77</td>\n      <td>3.901620e+08</td>\n      <td>3.901620e+08</td>\n      <td>2021-10-31</td>\n    </tr>\n    <tr>\n      <th>3</th>\n      <td>31.340</td>\n      <td>31.340</td>\n      <td>38.77</td>\n      <td>38.77</td>\n      <td>22.660</td>\n      <td>22.660</td>\n      <td>28.62</td>\n      <td>28.62</td>\n      <td>5.561460e+08</td>\n      <td>5.561460e+08</td>\n      <td>2021-09-30</td>\n    </tr>\n    <tr>\n      <th>4</th>\n      <td>16.779</td>\n      <td>16.779</td>\n      <td>31.95</td>\n      <td>31.95</td>\n      <td>16.539</td>\n      <td>16.539</td>\n      <td>31.35</td>\n      <td>31.35</td>\n      <td>5.059059e+08</td>\n      <td>5.059059e+08</td>\n      <td>2021-08-31</td>\n    </tr>\n  </tbody>\n</table>\n</div>"
     },
     "execution_count": 81,
     "metadata": {},
     "output_type": "execute_result"
    }
   ],
   "source": [
    "dot_dataframe = json_to_dataframe('DOT')\n",
    "to_floats(dot_dataframe)\n",
    "dot_dataframe.head()"
   ],
   "metadata": {
    "collapsed": false,
    "pycharm": {
     "name": "#%%\n"
    }
   }
  },
  {
   "cell_type": "code",
   "execution_count": 82,
   "outputs": [
    {
     "name": "stdout",
     "output_type": "stream",
     "text": [
      "<class 'pandas.core.frame.DataFrame'>\n",
      "RangeIndex: 16 entries, 0 to 15\n",
      "Data columns (total 11 columns):\n",
      " #   Column            Non-Null Count  Dtype  \n",
      "---  ------            --------------  -----  \n",
      " 0   open (USD)        16 non-null     float64\n",
      " 1   1b. open (USD)    16 non-null     float64\n",
      " 2   high (USD)        16 non-null     float64\n",
      " 3   2b. high (USD)    16 non-null     float64\n",
      " 4   low (USD)         16 non-null     float64\n",
      " 5   3b. low (USD)     16 non-null     float64\n",
      " 6   close (USD)       16 non-null     float64\n",
      " 7   4b. close (USD)   16 non-null     float64\n",
      " 8    volume           16 non-null     float64\n",
      " 9   market cap (USD)  16 non-null     float64\n",
      " 10  date              16 non-null     object \n",
      "dtypes: float64(10), object(1)\n",
      "memory usage: 1.5+ KB\n"
     ]
    }
   ],
   "source": [
    "dot_dataframe.info()"
   ],
   "metadata": {
    "collapsed": false,
    "pycharm": {
     "name": "#%%\n"
    }
   }
  },
  {
   "cell_type": "code",
   "execution_count": 83,
   "outputs": [
    {
     "data": {
      "text/plain": "        open (USD)  1b. open (USD)  high (USD)  2b. high (USD)  low (USD)  \\\ncount    16.000000       16.000000   16.000000       16.000000  16.000000   \nunique         NaN             NaN         NaN             NaN        NaN   \ntop            NaN             NaN         NaN             NaN        NaN   \nfreq           NaN             NaN         NaN             NaN        NaN   \nmean     21.880219       21.880219   30.286275       30.286275  15.854081   \nstd      13.672903       13.672903   17.237369       17.237369   9.964194   \nmin       4.183300        4.183300    4.950000        4.950000   3.532100   \n25%       8.514300        8.514300   15.628500       15.628500   6.508150   \n50%      20.026000       20.026000   35.360000       35.360000  14.609350   \n75%      34.475050       34.475050   43.311100       43.311100  24.921375   \nmax      42.780000       42.780000   55.090000       55.090000  32.210000   \n\n        3b. low (USD)  close (USD)  4b. close (USD)        volume  \\\ncount       16.000000    16.000000        16.000000  1.600000e+01   \nunique            NaN          NaN              NaN           NaN   \ntop               NaN          NaN              NaN           NaN   \nfreq              NaN          NaN              NaN           NaN   \nmean        15.854081    23.126319        23.126319  4.250148e+08   \nstd          9.964194    13.049238        13.049238  2.040867e+08   \nmin          3.532100     4.185400         4.185400  1.535145e+08   \n25%          6.508150    14.400075        14.400075  2.981940e+08   \n50%         14.609350    24.732000        24.732000  3.769282e+08   \n75%         24.921375    34.480500        34.480500  5.126091e+08   \nmax         32.210000    42.770000        42.770000  9.086344e+08   \n\n        market cap (USD)        date  \ncount       1.600000e+01          16  \nunique               NaN          16  \ntop                  NaN  2021-12-15  \nfreq                 NaN           1  \nmean        4.250148e+08         NaN  \nstd         2.040867e+08         NaN  \nmin         1.535145e+08         NaN  \n25%         2.981940e+08         NaN  \n50%         3.769282e+08         NaN  \n75%         5.126091e+08         NaN  \nmax         9.086344e+08         NaN  ",
      "text/html": "<div>\n<style scoped>\n    .dataframe tbody tr th:only-of-type {\n        vertical-align: middle;\n    }\n\n    .dataframe tbody tr th {\n        vertical-align: top;\n    }\n\n    .dataframe thead th {\n        text-align: right;\n    }\n</style>\n<table border=\"1\" class=\"dataframe\">\n  <thead>\n    <tr style=\"text-align: right;\">\n      <th></th>\n      <th>open (USD)</th>\n      <th>1b. open (USD)</th>\n      <th>high (USD)</th>\n      <th>2b. high (USD)</th>\n      <th>low (USD)</th>\n      <th>3b. low (USD)</th>\n      <th>close (USD)</th>\n      <th>4b. close (USD)</th>\n      <th>volume</th>\n      <th>market cap (USD)</th>\n      <th>date</th>\n    </tr>\n  </thead>\n  <tbody>\n    <tr>\n      <th>count</th>\n      <td>16.000000</td>\n      <td>16.000000</td>\n      <td>16.000000</td>\n      <td>16.000000</td>\n      <td>16.000000</td>\n      <td>16.000000</td>\n      <td>16.000000</td>\n      <td>16.000000</td>\n      <td>1.600000e+01</td>\n      <td>1.600000e+01</td>\n      <td>16</td>\n    </tr>\n    <tr>\n      <th>unique</th>\n      <td>NaN</td>\n      <td>NaN</td>\n      <td>NaN</td>\n      <td>NaN</td>\n      <td>NaN</td>\n      <td>NaN</td>\n      <td>NaN</td>\n      <td>NaN</td>\n      <td>NaN</td>\n      <td>NaN</td>\n      <td>16</td>\n    </tr>\n    <tr>\n      <th>top</th>\n      <td>NaN</td>\n      <td>NaN</td>\n      <td>NaN</td>\n      <td>NaN</td>\n      <td>NaN</td>\n      <td>NaN</td>\n      <td>NaN</td>\n      <td>NaN</td>\n      <td>NaN</td>\n      <td>NaN</td>\n      <td>2021-12-15</td>\n    </tr>\n    <tr>\n      <th>freq</th>\n      <td>NaN</td>\n      <td>NaN</td>\n      <td>NaN</td>\n      <td>NaN</td>\n      <td>NaN</td>\n      <td>NaN</td>\n      <td>NaN</td>\n      <td>NaN</td>\n      <td>NaN</td>\n      <td>NaN</td>\n      <td>1</td>\n    </tr>\n    <tr>\n      <th>mean</th>\n      <td>21.880219</td>\n      <td>21.880219</td>\n      <td>30.286275</td>\n      <td>30.286275</td>\n      <td>15.854081</td>\n      <td>15.854081</td>\n      <td>23.126319</td>\n      <td>23.126319</td>\n      <td>4.250148e+08</td>\n      <td>4.250148e+08</td>\n      <td>NaN</td>\n    </tr>\n    <tr>\n      <th>std</th>\n      <td>13.672903</td>\n      <td>13.672903</td>\n      <td>17.237369</td>\n      <td>17.237369</td>\n      <td>9.964194</td>\n      <td>9.964194</td>\n      <td>13.049238</td>\n      <td>13.049238</td>\n      <td>2.040867e+08</td>\n      <td>2.040867e+08</td>\n      <td>NaN</td>\n    </tr>\n    <tr>\n      <th>min</th>\n      <td>4.183300</td>\n      <td>4.183300</td>\n      <td>4.950000</td>\n      <td>4.950000</td>\n      <td>3.532100</td>\n      <td>3.532100</td>\n      <td>4.185400</td>\n      <td>4.185400</td>\n      <td>1.535145e+08</td>\n      <td>1.535145e+08</td>\n      <td>NaN</td>\n    </tr>\n    <tr>\n      <th>25%</th>\n      <td>8.514300</td>\n      <td>8.514300</td>\n      <td>15.628500</td>\n      <td>15.628500</td>\n      <td>6.508150</td>\n      <td>6.508150</td>\n      <td>14.400075</td>\n      <td>14.400075</td>\n      <td>2.981940e+08</td>\n      <td>2.981940e+08</td>\n      <td>NaN</td>\n    </tr>\n    <tr>\n      <th>50%</th>\n      <td>20.026000</td>\n      <td>20.026000</td>\n      <td>35.360000</td>\n      <td>35.360000</td>\n      <td>14.609350</td>\n      <td>14.609350</td>\n      <td>24.732000</td>\n      <td>24.732000</td>\n      <td>3.769282e+08</td>\n      <td>3.769282e+08</td>\n      <td>NaN</td>\n    </tr>\n    <tr>\n      <th>75%</th>\n      <td>34.475050</td>\n      <td>34.475050</td>\n      <td>43.311100</td>\n      <td>43.311100</td>\n      <td>24.921375</td>\n      <td>24.921375</td>\n      <td>34.480500</td>\n      <td>34.480500</td>\n      <td>5.126091e+08</td>\n      <td>5.126091e+08</td>\n      <td>NaN</td>\n    </tr>\n    <tr>\n      <th>max</th>\n      <td>42.780000</td>\n      <td>42.780000</td>\n      <td>55.090000</td>\n      <td>55.090000</td>\n      <td>32.210000</td>\n      <td>32.210000</td>\n      <td>42.770000</td>\n      <td>42.770000</td>\n      <td>9.086344e+08</td>\n      <td>9.086344e+08</td>\n      <td>NaN</td>\n    </tr>\n  </tbody>\n</table>\n</div>"
     },
     "execution_count": 83,
     "metadata": {},
     "output_type": "execute_result"
    }
   ],
   "source": [
    "dot_dataframe.describe(include = 'all')"
   ],
   "metadata": {
    "collapsed": false,
    "pycharm": {
     "name": "#%%\n"
    }
   }
  },
  {
   "cell_type": "code",
   "execution_count": 84,
   "outputs": [
    {
     "data": {
      "text/plain": "   open (USD)  1b. open (USD)  high (USD)  2b. high (USD)  low (USD)  \\\n0     0.21470         0.21470      0.2233          0.2233     0.1310   \n1     0.28000         0.28000      0.2973          0.2973     0.1860   \n2     0.20430         0.20430      0.3400          0.3400     0.2018   \n3     0.27820         0.27820      0.3199          0.3199     0.1940   \n4     0.20764         0.20764      0.3517          0.3517     0.1931   \n\n   3b. low (USD)  close (USD)  4b. close (USD)        volume  \\\n0         0.1310       0.1858           0.1858  2.507936e+10   \n1         0.1860       0.2147           0.2147  4.264490e+10   \n2         0.2018       0.2800           0.2800  8.405412e+10   \n3         0.1940       0.2042           0.2042  3.375173e+10   \n4         0.1931       0.2781           0.2781  7.322569e+10   \n\n   market cap (USD)        date  \n0      2.507936e+10  2021-12-15  \n1      4.264490e+10  2021-11-30  \n2      8.405412e+10  2021-10-31  \n3      3.375173e+10  2021-09-30  \n4      7.322569e+10  2021-08-31  ",
      "text/html": "<div>\n<style scoped>\n    .dataframe tbody tr th:only-of-type {\n        vertical-align: middle;\n    }\n\n    .dataframe tbody tr th {\n        vertical-align: top;\n    }\n\n    .dataframe thead th {\n        text-align: right;\n    }\n</style>\n<table border=\"1\" class=\"dataframe\">\n  <thead>\n    <tr style=\"text-align: right;\">\n      <th></th>\n      <th>open (USD)</th>\n      <th>1b. open (USD)</th>\n      <th>high (USD)</th>\n      <th>2b. high (USD)</th>\n      <th>low (USD)</th>\n      <th>3b. low (USD)</th>\n      <th>close (USD)</th>\n      <th>4b. close (USD)</th>\n      <th>volume</th>\n      <th>market cap (USD)</th>\n      <th>date</th>\n    </tr>\n  </thead>\n  <tbody>\n    <tr>\n      <th>0</th>\n      <td>0.21470</td>\n      <td>0.21470</td>\n      <td>0.2233</td>\n      <td>0.2233</td>\n      <td>0.1310</td>\n      <td>0.1310</td>\n      <td>0.1858</td>\n      <td>0.1858</td>\n      <td>2.507936e+10</td>\n      <td>2.507936e+10</td>\n      <td>2021-12-15</td>\n    </tr>\n    <tr>\n      <th>1</th>\n      <td>0.28000</td>\n      <td>0.28000</td>\n      <td>0.2973</td>\n      <td>0.2973</td>\n      <td>0.1860</td>\n      <td>0.1860</td>\n      <td>0.2147</td>\n      <td>0.2147</td>\n      <td>4.264490e+10</td>\n      <td>4.264490e+10</td>\n      <td>2021-11-30</td>\n    </tr>\n    <tr>\n      <th>2</th>\n      <td>0.20430</td>\n      <td>0.20430</td>\n      <td>0.3400</td>\n      <td>0.3400</td>\n      <td>0.2018</td>\n      <td>0.2018</td>\n      <td>0.2800</td>\n      <td>0.2800</td>\n      <td>8.405412e+10</td>\n      <td>8.405412e+10</td>\n      <td>2021-10-31</td>\n    </tr>\n    <tr>\n      <th>3</th>\n      <td>0.27820</td>\n      <td>0.27820</td>\n      <td>0.3199</td>\n      <td>0.3199</td>\n      <td>0.1940</td>\n      <td>0.1940</td>\n      <td>0.2042</td>\n      <td>0.2042</td>\n      <td>3.375173e+10</td>\n      <td>3.375173e+10</td>\n      <td>2021-09-30</td>\n    </tr>\n    <tr>\n      <th>4</th>\n      <td>0.20764</td>\n      <td>0.20764</td>\n      <td>0.3517</td>\n      <td>0.3517</td>\n      <td>0.1931</td>\n      <td>0.1931</td>\n      <td>0.2781</td>\n      <td>0.2781</td>\n      <td>7.322569e+10</td>\n      <td>7.322569e+10</td>\n      <td>2021-08-31</td>\n    </tr>\n  </tbody>\n</table>\n</div>"
     },
     "execution_count": 84,
     "metadata": {},
     "output_type": "execute_result"
    }
   ],
   "source": [
    "doge_dataframe = json_to_dataframe('DOGE') # cvs file is also created by the function\n",
    "to_floats(doge_dataframe)\n",
    "doge_dataframe.head()"
   ],
   "metadata": {
    "collapsed": false,
    "pycharm": {
     "name": "#%%\n"
    }
   }
  },
  {
   "cell_type": "code",
   "execution_count": 85,
   "outputs": [
    {
     "name": "stdout",
     "output_type": "stream",
     "text": [
      "<class 'pandas.core.frame.DataFrame'>\n",
      "RangeIndex: 29 entries, 0 to 28\n",
      "Data columns (total 11 columns):\n",
      " #   Column            Non-Null Count  Dtype  \n",
      "---  ------            --------------  -----  \n",
      " 0   open (USD)        29 non-null     float64\n",
      " 1   1b. open (USD)    29 non-null     float64\n",
      " 2   high (USD)        29 non-null     float64\n",
      " 3   2b. high (USD)    29 non-null     float64\n",
      " 4   low (USD)         29 non-null     float64\n",
      " 5   3b. low (USD)     29 non-null     float64\n",
      " 6   close (USD)       29 non-null     float64\n",
      " 7   4b. close (USD)   29 non-null     float64\n",
      " 8    volume           29 non-null     float64\n",
      " 9   market cap (USD)  29 non-null     float64\n",
      " 10  date              29 non-null     object \n",
      "dtypes: float64(10), object(1)\n",
      "memory usage: 2.6+ KB\n"
     ]
    }
   ],
   "source": [
    "doge_dataframe.info()"
   ],
   "metadata": {
    "collapsed": false,
    "pycharm": {
     "name": "#%%\n"
    }
   }
  },
  {
   "cell_type": "code",
   "execution_count": 87,
   "outputs": [
    {
     "data": {
      "text/plain": "        open (USD)  1b. open (USD)  high (USD)  2b. high (USD)  low (USD)  \\\ncount    29.000000       29.000000   29.000000       29.000000  29.000000   \nunique         NaN             NaN         NaN             NaN        NaN   \ntop            NaN             NaN         NaN             NaN        NaN   \nfreq           NaN             NaN         NaN             NaN        NaN   \nmean      0.078924        0.078924    0.128553        0.128553   0.055600   \nstd       0.119098        0.119098    0.192682        0.192682   0.080311   \nmin       0.001800        0.001800    0.002304        0.002304   0.001135   \n25%       0.002423        0.002423    0.002810        0.002810   0.002186   \n50%       0.003206        0.003206    0.004890        0.004890   0.002528   \n75%       0.204300        0.204300    0.261400        0.261400   0.131000   \nmax       0.337460        0.337460    0.739950        0.739950   0.211110   \n\n        3b. low (USD)  close (USD)  4b. close (USD)        volume  \\\ncount       29.000000    29.000000        29.000000  2.900000e+01   \nunique            NaN          NaN              NaN           NaN   \ntop               NaN          NaN              NaN           NaN   \nfreq              NaN          NaN              NaN           NaN   \nmean         0.055600     0.085228         0.085228  7.408950e+10   \nstd          0.080311     0.119758         0.119758  1.196767e+11   \nmin          0.001135     0.001804         0.001804  2.278713e+09   \n25%          0.002186     0.002433         0.002433  5.605772e+09   \n50%          0.002528     0.003224         0.003224  3.079310e+10   \n75%          0.131000     0.204200         0.204200  7.322569e+10   \nmax          0.211110     0.337460         0.337460  4.607867e+11   \n\n        market cap (USD)        date  \ncount       2.900000e+01          29  \nunique               NaN          29  \ntop                  NaN  2021-12-15  \nfreq                 NaN           1  \nmean        7.408950e+10         NaN  \nstd         1.196767e+11         NaN  \nmin         2.278713e+09         NaN  \n25%         5.605772e+09         NaN  \n50%         3.079310e+10         NaN  \n75%         7.322569e+10         NaN  \nmax         4.607867e+11         NaN  ",
      "text/html": "<div>\n<style scoped>\n    .dataframe tbody tr th:only-of-type {\n        vertical-align: middle;\n    }\n\n    .dataframe tbody tr th {\n        vertical-align: top;\n    }\n\n    .dataframe thead th {\n        text-align: right;\n    }\n</style>\n<table border=\"1\" class=\"dataframe\">\n  <thead>\n    <tr style=\"text-align: right;\">\n      <th></th>\n      <th>open (USD)</th>\n      <th>1b. open (USD)</th>\n      <th>high (USD)</th>\n      <th>2b. high (USD)</th>\n      <th>low (USD)</th>\n      <th>3b. low (USD)</th>\n      <th>close (USD)</th>\n      <th>4b. close (USD)</th>\n      <th>volume</th>\n      <th>market cap (USD)</th>\n      <th>date</th>\n    </tr>\n  </thead>\n  <tbody>\n    <tr>\n      <th>count</th>\n      <td>29.000000</td>\n      <td>29.000000</td>\n      <td>29.000000</td>\n      <td>29.000000</td>\n      <td>29.000000</td>\n      <td>29.000000</td>\n      <td>29.000000</td>\n      <td>29.000000</td>\n      <td>2.900000e+01</td>\n      <td>2.900000e+01</td>\n      <td>29</td>\n    </tr>\n    <tr>\n      <th>unique</th>\n      <td>NaN</td>\n      <td>NaN</td>\n      <td>NaN</td>\n      <td>NaN</td>\n      <td>NaN</td>\n      <td>NaN</td>\n      <td>NaN</td>\n      <td>NaN</td>\n      <td>NaN</td>\n      <td>NaN</td>\n      <td>29</td>\n    </tr>\n    <tr>\n      <th>top</th>\n      <td>NaN</td>\n      <td>NaN</td>\n      <td>NaN</td>\n      <td>NaN</td>\n      <td>NaN</td>\n      <td>NaN</td>\n      <td>NaN</td>\n      <td>NaN</td>\n      <td>NaN</td>\n      <td>NaN</td>\n      <td>2021-12-15</td>\n    </tr>\n    <tr>\n      <th>freq</th>\n      <td>NaN</td>\n      <td>NaN</td>\n      <td>NaN</td>\n      <td>NaN</td>\n      <td>NaN</td>\n      <td>NaN</td>\n      <td>NaN</td>\n      <td>NaN</td>\n      <td>NaN</td>\n      <td>NaN</td>\n      <td>1</td>\n    </tr>\n    <tr>\n      <th>mean</th>\n      <td>0.078924</td>\n      <td>0.078924</td>\n      <td>0.128553</td>\n      <td>0.128553</td>\n      <td>0.055600</td>\n      <td>0.055600</td>\n      <td>0.085228</td>\n      <td>0.085228</td>\n      <td>7.408950e+10</td>\n      <td>7.408950e+10</td>\n      <td>NaN</td>\n    </tr>\n    <tr>\n      <th>std</th>\n      <td>0.119098</td>\n      <td>0.119098</td>\n      <td>0.192682</td>\n      <td>0.192682</td>\n      <td>0.080311</td>\n      <td>0.080311</td>\n      <td>0.119758</td>\n      <td>0.119758</td>\n      <td>1.196767e+11</td>\n      <td>1.196767e+11</td>\n      <td>NaN</td>\n    </tr>\n    <tr>\n      <th>min</th>\n      <td>0.001800</td>\n      <td>0.001800</td>\n      <td>0.002304</td>\n      <td>0.002304</td>\n      <td>0.001135</td>\n      <td>0.001135</td>\n      <td>0.001804</td>\n      <td>0.001804</td>\n      <td>2.278713e+09</td>\n      <td>2.278713e+09</td>\n      <td>NaN</td>\n    </tr>\n    <tr>\n      <th>25%</th>\n      <td>0.002423</td>\n      <td>0.002423</td>\n      <td>0.002810</td>\n      <td>0.002810</td>\n      <td>0.002186</td>\n      <td>0.002186</td>\n      <td>0.002433</td>\n      <td>0.002433</td>\n      <td>5.605772e+09</td>\n      <td>5.605772e+09</td>\n      <td>NaN</td>\n    </tr>\n    <tr>\n      <th>50%</th>\n      <td>0.003206</td>\n      <td>0.003206</td>\n      <td>0.004890</td>\n      <td>0.004890</td>\n      <td>0.002528</td>\n      <td>0.002528</td>\n      <td>0.003224</td>\n      <td>0.003224</td>\n      <td>3.079310e+10</td>\n      <td>3.079310e+10</td>\n      <td>NaN</td>\n    </tr>\n    <tr>\n      <th>75%</th>\n      <td>0.204300</td>\n      <td>0.204300</td>\n      <td>0.261400</td>\n      <td>0.261400</td>\n      <td>0.131000</td>\n      <td>0.131000</td>\n      <td>0.204200</td>\n      <td>0.204200</td>\n      <td>7.322569e+10</td>\n      <td>7.322569e+10</td>\n      <td>NaN</td>\n    </tr>\n    <tr>\n      <th>max</th>\n      <td>0.337460</td>\n      <td>0.337460</td>\n      <td>0.739950</td>\n      <td>0.739950</td>\n      <td>0.211110</td>\n      <td>0.211110</td>\n      <td>0.337460</td>\n      <td>0.337460</td>\n      <td>4.607867e+11</td>\n      <td>4.607867e+11</td>\n      <td>NaN</td>\n    </tr>\n  </tbody>\n</table>\n</div>"
     },
     "execution_count": 87,
     "metadata": {},
     "output_type": "execute_result"
    }
   ],
   "source": [
    "doge_dataframe.describe(include = 'all')"
   ],
   "metadata": {
    "collapsed": false,
    "pycharm": {
     "name": "#%%\n"
    }
   }
  },
  {
   "cell_type": "code",
   "execution_count": null,
   "outputs": [],
   "source": [],
   "metadata": {
    "collapsed": false,
    "pycharm": {
     "name": "#%%\n"
    }
   }
  }
 ],
 "metadata": {
  "kernelspec": {
   "display_name": "Python 3",
   "language": "python",
   "name": "python3"
  },
  "language_info": {
   "codemirror_mode": {
    "name": "ipython",
    "version": 2
   },
   "file_extension": ".py",
   "mimetype": "text/x-python",
   "name": "python",
   "nbconvert_exporter": "python",
   "pygments_lexer": "ipython2",
   "version": "2.7.6"
  }
 },
 "nbformat": 4,
 "nbformat_minor": 0
}